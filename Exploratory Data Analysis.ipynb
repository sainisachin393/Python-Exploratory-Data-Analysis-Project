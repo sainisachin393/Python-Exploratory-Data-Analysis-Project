{
 "cells": [
  {
   "cell_type": "markdown",
   "metadata": {
    "id": "UBFY99_n_QDB"
   },
   "source": [
    "# Project Title -  Analysis on trending videos on youtube.\n",
    "\n",
    "The data is taken from kaggle www.kaggle.com\n",
    "This data has daily trending videos with likes,dislikes,comments,views,channel_title etc."
   ]
  },
  {
   "cell_type": "markdown",
   "metadata": {
    "id": "Fy8gVNJN_QDC"
   },
   "source": [
    "## Downloading the Dataset\n",
    "\n",
    "The dataset is downloaded using opendatasets lib. from jovian."
   ]
  },
  {
   "cell_type": "code",
   "execution_count": 1,
   "metadata": {
    "executionInfo": {
     "elapsed": 2462,
     "status": "ok",
     "timestamp": 1625393301392,
     "user": {
      "displayName": "Sachin Saini",
      "photoUrl": "https://lh3.googleusercontent.com/a-/AOh14GiHbfUSeFVa_S61CnvuYVpLUvbpVaS90wIIKN9EfQ=s64",
      "userId": "17325008912649652637"
     },
     "user_tz": -330
    },
    "id": "XL1A8Dzx_QDC"
   },
   "outputs": [],
   "source": [
    "!pip install jovian opendatasets --upgrade --quiet"
   ]
  },
  {
   "cell_type": "markdown",
   "metadata": {
    "id": "27t03c_3_QDD"
   },
   "source": [
    "Let's begin by downloading the data, and listing the files within the dataset."
   ]
  },
  {
   "cell_type": "code",
   "execution_count": 2,
   "metadata": {
    "executionInfo": {
     "elapsed": 31,
     "status": "ok",
     "timestamp": 1625393301393,
     "user": {
      "displayName": "Sachin Saini",
      "photoUrl": "https://lh3.googleusercontent.com/a-/AOh14GiHbfUSeFVa_S61CnvuYVpLUvbpVaS90wIIKN9EfQ=s64",
      "userId": "17325008912649652637"
     },
     "user_tz": -330
    },
    "id": "b1c1M2Rx_QDD"
   },
   "outputs": [],
   "source": [
    "dataset_url = 'https://www.kaggle.com/datasnaek/youtube-new' "
   ]
  },
  {
   "cell_type": "code",
   "execution_count": 3,
   "metadata": {
    "colab": {
     "base_uri": "https://localhost:8080/"
    },
    "executionInfo": {
     "elapsed": 30,
     "status": "ok",
     "timestamp": 1625393301394,
     "user": {
      "displayName": "Sachin Saini",
      "photoUrl": "https://lh3.googleusercontent.com/a-/AOh14GiHbfUSeFVa_S61CnvuYVpLUvbpVaS90wIIKN9EfQ=s64",
      "userId": "17325008912649652637"
     },
     "user_tz": -330
    },
    "id": "8vvILcoI_QDD",
    "outputId": "0ceb1715-2049-40fa-98b1-724d868dc10b"
   },
   "outputs": [
    {
     "name": "stdout",
     "output_type": "stream",
     "text": [
      "Please provide your Kaggle credentials to download this dataset. Learn more: http://bit.ly/kaggle-creds\n",
      "Your Kaggle username: sainisachin393\n",
      "Your Kaggle Key: ········\n"
     ]
    },
    {
     "name": "stderr",
     "output_type": "stream",
     "text": [
      "  2%|▏         | 5.00M/201M [00:00<00:05, 37.7MB/s]"
     ]
    },
    {
     "name": "stdout",
     "output_type": "stream",
     "text": [
      "Downloading youtube-new.zip to ./youtube-new\n"
     ]
    },
    {
     "name": "stderr",
     "output_type": "stream",
     "text": [
      "100%|██████████| 201M/201M [00:03<00:00, 58.1MB/s] \n"
     ]
    },
    {
     "name": "stdout",
     "output_type": "stream",
     "text": [
      "\n"
     ]
    }
   ],
   "source": [
    "import opendatasets as od\n",
    "od.download(dataset_url)"
   ]
  },
  {
   "cell_type": "markdown",
   "metadata": {
    "id": "CU4UTmT0_QDE"
   },
   "source": [
    "The dataset has been downloaded and extracted."
   ]
  },
  {
   "cell_type": "code",
   "execution_count": 4,
   "metadata": {
    "executionInfo": {
     "elapsed": 24,
     "status": "ok",
     "timestamp": 1625393301395,
     "user": {
      "displayName": "Sachin Saini",
      "photoUrl": "https://lh3.googleusercontent.com/a-/AOh14GiHbfUSeFVa_S61CnvuYVpLUvbpVaS90wIIKN9EfQ=s64",
      "userId": "17325008912649652637"
     },
     "user_tz": -330
    },
    "id": "rpT14AqC_QDE"
   },
   "outputs": [],
   "source": [
    "data_dir = './youtube-new'"
   ]
  },
  {
   "cell_type": "code",
   "execution_count": 5,
   "metadata": {
    "colab": {
     "base_uri": "https://localhost:8080/"
    },
    "executionInfo": {
     "elapsed": 24,
     "status": "ok",
     "timestamp": 1625393301396,
     "user": {
      "displayName": "Sachin Saini",
      "photoUrl": "https://lh3.googleusercontent.com/a-/AOh14GiHbfUSeFVa_S61CnvuYVpLUvbpVaS90wIIKN9EfQ=s64",
      "userId": "17325008912649652637"
     },
     "user_tz": -330
    },
    "id": "3qEocfZQ_QDF",
    "outputId": "d8bdf27d-600a-43bb-c3dc-dd24de6da28e"
   },
   "outputs": [
    {
     "data": {
      "text/plain": [
       "['INvideos.csv',\n",
       " 'USvideos.csv',\n",
       " 'CAvideos.csv',\n",
       " 'KR_category_id.json',\n",
       " 'RU_category_id.json',\n",
       " 'MX_category_id.json',\n",
       " 'FRvideos.csv',\n",
       " 'US_category_id.json',\n",
       " 'JP_category_id.json',\n",
       " 'CA_category_id.json',\n",
       " 'JPvideos.csv',\n",
       " 'IN_category_id.json',\n",
       " 'GBvideos.csv',\n",
       " 'RUvideos.csv',\n",
       " 'GB_category_id.json',\n",
       " 'FR_category_id.json',\n",
       " 'KRvideos.csv',\n",
       " 'MXvideos.csv',\n",
       " 'DE_category_id.json',\n",
       " 'DEvideos.csv']"
      ]
     },
     "execution_count": 5,
     "metadata": {},
     "output_type": "execute_result"
    }
   ],
   "source": [
    "import os\n",
    "os.listdir(data_dir)"
   ]
  },
  {
   "cell_type": "markdown",
   "metadata": {
    "id": "BrZ-d5n7_QDF"
   },
   "source": [
    "Let us save and upload our work to Jovian before continuing."
   ]
  },
  {
   "cell_type": "code",
   "execution_count": 6,
   "metadata": {
    "executionInfo": {
     "elapsed": 22,
     "status": "ok",
     "timestamp": 1625393301398,
     "user": {
      "displayName": "Sachin Saini",
      "photoUrl": "https://lh3.googleusercontent.com/a-/AOh14GiHbfUSeFVa_S61CnvuYVpLUvbpVaS90wIIKN9EfQ=s64",
      "userId": "17325008912649652637"
     },
     "user_tz": -330
    },
    "id": "0prCDeRo_QDG"
   },
   "outputs": [],
   "source": [
    "project_name = \"new\" "
   ]
  },
  {
   "cell_type": "code",
   "execution_count": 7,
   "metadata": {
    "executionInfo": {
     "elapsed": 3387,
     "status": "ok",
     "timestamp": 1625393304765,
     "user": {
      "displayName": "Sachin Saini",
      "photoUrl": "https://lh3.googleusercontent.com/a-/AOh14GiHbfUSeFVa_S61CnvuYVpLUvbpVaS90wIIKN9EfQ=s64",
      "userId": "17325008912649652637"
     },
     "user_tz": -330
    },
    "id": "KgXsHCxX_QDG"
   },
   "outputs": [],
   "source": [
    "!pip install jovian --upgrade -q"
   ]
  },
  {
   "cell_type": "code",
   "execution_count": 8,
   "metadata": {
    "executionInfo": {
     "elapsed": 12,
     "status": "ok",
     "timestamp": 1625393304766,
     "user": {
      "displayName": "Sachin Saini",
      "photoUrl": "https://lh3.googleusercontent.com/a-/AOh14GiHbfUSeFVa_S61CnvuYVpLUvbpVaS90wIIKN9EfQ=s64",
      "userId": "17325008912649652637"
     },
     "user_tz": -330
    },
    "id": "1b5J7BRl_QDG"
   },
   "outputs": [],
   "source": [
    "import jovian"
   ]
  },
  {
   "cell_type": "code",
   "execution_count": 9,
   "metadata": {
    "colab": {
     "base_uri": "https://localhost:8080/",
     "height": 87
    },
    "executionInfo": {
     "elapsed": 2481,
     "status": "ok",
     "timestamp": 1625393307236,
     "user": {
      "displayName": "Sachin Saini",
      "photoUrl": "https://lh3.googleusercontent.com/a-/AOh14GiHbfUSeFVa_S61CnvuYVpLUvbpVaS90wIIKN9EfQ=s64",
      "userId": "17325008912649652637"
     },
     "user_tz": -330
    },
    "id": "hVJraxrL_QDG",
    "outputId": "30685f8a-ae2c-47a7-ad77-b5e4d5ead956"
   },
   "outputs": [
    {
     "data": {
      "application/javascript": [
       "window.require && require([\"base/js/namespace\"],function(Jupyter){Jupyter.notebook.save_checkpoint()})"
      ],
      "text/plain": [
       "<IPython.core.display.Javascript object>"
      ]
     },
     "metadata": {},
     "output_type": "display_data"
    },
    {
     "name": "stdout",
     "output_type": "stream",
     "text": [
      "[jovian] Updating notebook \"sainisachin393/new\" on https://jovian.ai\u001b[0m\n",
      "[jovian] Committed successfully! https://jovian.ai/sainisachin393/new\u001b[0m\n"
     ]
    },
    {
     "data": {
      "text/plain": [
       "'https://jovian.ai/sainisachin393/new'"
      ]
     },
     "execution_count": 9,
     "metadata": {},
     "output_type": "execute_result"
    }
   ],
   "source": [
    "jovian.commit(project=project_name)"
   ]
  },
  {
   "cell_type": "markdown",
   "metadata": {
    "id": "F1_g8UCU_QDH"
   },
   "source": [
    "## Data Preparation and Cleaning\n",
    "\n",
    "Loading our data into data frame.\n",
    "Cleaning of data for analysis.\n"
   ]
  },
  {
   "cell_type": "code",
   "execution_count": 10,
   "metadata": {
    "executionInfo": {
     "elapsed": 9,
     "status": "ok",
     "timestamp": 1625393307238,
     "user": {
      "displayName": "Sachin Saini",
      "photoUrl": "https://lh3.googleusercontent.com/a-/AOh14GiHbfUSeFVa_S61CnvuYVpLUvbpVaS90wIIKN9EfQ=s64",
      "userId": "17325008912649652637"
     },
     "user_tz": -330
    },
    "id": "ci_eGJkT_QDH"
   },
   "outputs": [],
   "source": [
    "import numpy as np\n",
    "import pandas as pd\n",
    "import matplotlib.pylab as plt\n",
    "import seaborn as sns"
   ]
  },
  {
   "cell_type": "code",
   "execution_count": 11,
   "metadata": {
    "executionInfo": {
     "elapsed": 1733,
     "status": "ok",
     "timestamp": 1625393308963,
     "user": {
      "displayName": "Sachin Saini",
      "photoUrl": "https://lh3.googleusercontent.com/a-/AOh14GiHbfUSeFVa_S61CnvuYVpLUvbpVaS90wIIKN9EfQ=s64",
      "userId": "17325008912649652637"
     },
     "user_tz": -330
    },
    "id": "VPy-TARd_QDH"
   },
   "outputs": [],
   "source": [
    "df=pd.read_csv('./youtube-new/CAvideos.csv')"
   ]
  },
  {
   "cell_type": "code",
   "execution_count": 12,
   "metadata": {
    "colab": {
     "base_uri": "https://localhost:8080/",
     "height": 1000
    },
    "executionInfo": {
     "elapsed": 47,
     "status": "ok",
     "timestamp": 1625393308965,
     "user": {
      "displayName": "Sachin Saini",
      "photoUrl": "https://lh3.googleusercontent.com/a-/AOh14GiHbfUSeFVa_S61CnvuYVpLUvbpVaS90wIIKN9EfQ=s64",
      "userId": "17325008912649652637"
     },
     "user_tz": -330
    },
    "id": "Vf7kEjIr_QDH",
    "outputId": "f6f00ed0-3287-4d86-c59c-e105d8b398f6"
   },
   "outputs": [
    {
     "data": {
      "text/html": [
       "<div>\n",
       "<style scoped>\n",
       "    .dataframe tbody tr th:only-of-type {\n",
       "        vertical-align: middle;\n",
       "    }\n",
       "\n",
       "    .dataframe tbody tr th {\n",
       "        vertical-align: top;\n",
       "    }\n",
       "\n",
       "    .dataframe thead th {\n",
       "        text-align: right;\n",
       "    }\n",
       "</style>\n",
       "<table border=\"1\" class=\"dataframe\">\n",
       "  <thead>\n",
       "    <tr style=\"text-align: right;\">\n",
       "      <th></th>\n",
       "      <th>video_id</th>\n",
       "      <th>trending_date</th>\n",
       "      <th>title</th>\n",
       "      <th>channel_title</th>\n",
       "      <th>category_id</th>\n",
       "      <th>publish_time</th>\n",
       "      <th>tags</th>\n",
       "      <th>views</th>\n",
       "      <th>likes</th>\n",
       "      <th>dislikes</th>\n",
       "      <th>comment_count</th>\n",
       "      <th>thumbnail_link</th>\n",
       "      <th>comments_disabled</th>\n",
       "      <th>ratings_disabled</th>\n",
       "      <th>video_error_or_removed</th>\n",
       "      <th>description</th>\n",
       "    </tr>\n",
       "  </thead>\n",
       "  <tbody>\n",
       "    <tr>\n",
       "      <th>0</th>\n",
       "      <td>n1WpP7iowLc</td>\n",
       "      <td>17.14.11</td>\n",
       "      <td>Eminem - Walk On Water (Audio) ft. Beyoncé</td>\n",
       "      <td>EminemVEVO</td>\n",
       "      <td>10</td>\n",
       "      <td>2017-11-10T17:00:03.000Z</td>\n",
       "      <td>Eminem|\"Walk\"|\"On\"|\"Water\"|\"Aftermath/Shady/In...</td>\n",
       "      <td>17158579</td>\n",
       "      <td>787425</td>\n",
       "      <td>43420</td>\n",
       "      <td>125882</td>\n",
       "      <td>https://i.ytimg.com/vi/n1WpP7iowLc/default.jpg</td>\n",
       "      <td>False</td>\n",
       "      <td>False</td>\n",
       "      <td>False</td>\n",
       "      <td>Eminem's new track Walk on Water ft. Beyoncé i...</td>\n",
       "    </tr>\n",
       "    <tr>\n",
       "      <th>1</th>\n",
       "      <td>0dBIkQ4Mz1M</td>\n",
       "      <td>17.14.11</td>\n",
       "      <td>PLUSH - Bad Unboxing Fan Mail</td>\n",
       "      <td>iDubbbzTV</td>\n",
       "      <td>23</td>\n",
       "      <td>2017-11-13T17:00:00.000Z</td>\n",
       "      <td>plush|\"bad unboxing\"|\"unboxing\"|\"fan mail\"|\"id...</td>\n",
       "      <td>1014651</td>\n",
       "      <td>127794</td>\n",
       "      <td>1688</td>\n",
       "      <td>13030</td>\n",
       "      <td>https://i.ytimg.com/vi/0dBIkQ4Mz1M/default.jpg</td>\n",
       "      <td>False</td>\n",
       "      <td>False</td>\n",
       "      <td>False</td>\n",
       "      <td>STill got a lot of packages. Probably will las...</td>\n",
       "    </tr>\n",
       "    <tr>\n",
       "      <th>2</th>\n",
       "      <td>5qpjK5DgCt4</td>\n",
       "      <td>17.14.11</td>\n",
       "      <td>Racist Superman | Rudy Mancuso, King Bach &amp; Le...</td>\n",
       "      <td>Rudy Mancuso</td>\n",
       "      <td>23</td>\n",
       "      <td>2017-11-12T19:05:24.000Z</td>\n",
       "      <td>racist superman|\"rudy\"|\"mancuso\"|\"king\"|\"bach\"...</td>\n",
       "      <td>3191434</td>\n",
       "      <td>146035</td>\n",
       "      <td>5339</td>\n",
       "      <td>8181</td>\n",
       "      <td>https://i.ytimg.com/vi/5qpjK5DgCt4/default.jpg</td>\n",
       "      <td>False</td>\n",
       "      <td>False</td>\n",
       "      <td>False</td>\n",
       "      <td>WATCH MY PREVIOUS VIDEO ▶ \\n\\nSUBSCRIBE ► http...</td>\n",
       "    </tr>\n",
       "    <tr>\n",
       "      <th>3</th>\n",
       "      <td>d380meD0W0M</td>\n",
       "      <td>17.14.11</td>\n",
       "      <td>I Dare You: GOING BALD!?</td>\n",
       "      <td>nigahiga</td>\n",
       "      <td>24</td>\n",
       "      <td>2017-11-12T18:01:41.000Z</td>\n",
       "      <td>ryan|\"higa\"|\"higatv\"|\"nigahiga\"|\"i dare you\"|\"...</td>\n",
       "      <td>2095828</td>\n",
       "      <td>132239</td>\n",
       "      <td>1989</td>\n",
       "      <td>17518</td>\n",
       "      <td>https://i.ytimg.com/vi/d380meD0W0M/default.jpg</td>\n",
       "      <td>False</td>\n",
       "      <td>False</td>\n",
       "      <td>False</td>\n",
       "      <td>I know it's been a while since we did this sho...</td>\n",
       "    </tr>\n",
       "    <tr>\n",
       "      <th>4</th>\n",
       "      <td>2Vv-BfVoq4g</td>\n",
       "      <td>17.14.11</td>\n",
       "      <td>Ed Sheeran - Perfect (Official Music Video)</td>\n",
       "      <td>Ed Sheeran</td>\n",
       "      <td>10</td>\n",
       "      <td>2017-11-09T11:04:14.000Z</td>\n",
       "      <td>edsheeran|\"ed sheeran\"|\"acoustic\"|\"live\"|\"cove...</td>\n",
       "      <td>33523622</td>\n",
       "      <td>1634130</td>\n",
       "      <td>21082</td>\n",
       "      <td>85067</td>\n",
       "      <td>https://i.ytimg.com/vi/2Vv-BfVoq4g/default.jpg</td>\n",
       "      <td>False</td>\n",
       "      <td>False</td>\n",
       "      <td>False</td>\n",
       "      <td>🎧: https://ad.gt/yt-perfect\\n💰: https://atlant...</td>\n",
       "    </tr>\n",
       "    <tr>\n",
       "      <th>...</th>\n",
       "      <td>...</td>\n",
       "      <td>...</td>\n",
       "      <td>...</td>\n",
       "      <td>...</td>\n",
       "      <td>...</td>\n",
       "      <td>...</td>\n",
       "      <td>...</td>\n",
       "      <td>...</td>\n",
       "      <td>...</td>\n",
       "      <td>...</td>\n",
       "      <td>...</td>\n",
       "      <td>...</td>\n",
       "      <td>...</td>\n",
       "      <td>...</td>\n",
       "      <td>...</td>\n",
       "      <td>...</td>\n",
       "    </tr>\n",
       "    <tr>\n",
       "      <th>40876</th>\n",
       "      <td>sGolxsMSGfQ</td>\n",
       "      <td>18.14.06</td>\n",
       "      <td>HOW2: How to Solve a Mystery</td>\n",
       "      <td>Annoying Orange</td>\n",
       "      <td>24</td>\n",
       "      <td>2018-06-13T18:00:07.000Z</td>\n",
       "      <td>annoying orange|\"funny\"|\"fruit\"|\"talking\"|\"ani...</td>\n",
       "      <td>80685</td>\n",
       "      <td>1701</td>\n",
       "      <td>99</td>\n",
       "      <td>1312</td>\n",
       "      <td>https://i.ytimg.com/vi/sGolxsMSGfQ/default.jpg</td>\n",
       "      <td>False</td>\n",
       "      <td>False</td>\n",
       "      <td>False</td>\n",
       "      <td>🚨 NEW MERCH! http://amzn.to/annoyingorange 🚨➤ ...</td>\n",
       "    </tr>\n",
       "    <tr>\n",
       "      <th>40877</th>\n",
       "      <td>8HNuRNi8t70</td>\n",
       "      <td>18.14.06</td>\n",
       "      <td>Eli Lik Lik Episode 13 Partie 01</td>\n",
       "      <td>Elhiwar Ettounsi</td>\n",
       "      <td>24</td>\n",
       "      <td>2018-06-13T19:01:18.000Z</td>\n",
       "      <td>hkayet tounsia|\"elhiwar ettounsi\"|\"denya okhra...</td>\n",
       "      <td>103339</td>\n",
       "      <td>460</td>\n",
       "      <td>66</td>\n",
       "      <td>51</td>\n",
       "      <td>https://i.ytimg.com/vi/8HNuRNi8t70/default.jpg</td>\n",
       "      <td>False</td>\n",
       "      <td>False</td>\n",
       "      <td>False</td>\n",
       "      <td>► Retrouvez vos programmes préférés : https://...</td>\n",
       "    </tr>\n",
       "    <tr>\n",
       "      <th>40878</th>\n",
       "      <td>GWlKEM3m2EE</td>\n",
       "      <td>18.14.06</td>\n",
       "      <td>KINGDOM HEARTS III – SQUARE ENIX E3 SHOWCASE 2...</td>\n",
       "      <td>Kingdom Hearts</td>\n",
       "      <td>20</td>\n",
       "      <td>2018-06-11T17:30:53.000Z</td>\n",
       "      <td>Kingdom Hearts|\"KH3\"|\"Kingdom Hearts 3\"|\"Froze...</td>\n",
       "      <td>773347</td>\n",
       "      <td>25900</td>\n",
       "      <td>224</td>\n",
       "      <td>3881</td>\n",
       "      <td>https://i.ytimg.com/vi/GWlKEM3m2EE/default.jpg</td>\n",
       "      <td>False</td>\n",
       "      <td>False</td>\n",
       "      <td>False</td>\n",
       "      <td>Find out more about Kingdom Hearts 3: https://...</td>\n",
       "    </tr>\n",
       "    <tr>\n",
       "      <th>40879</th>\n",
       "      <td>lbMKLzQ4cNQ</td>\n",
       "      <td>18.14.06</td>\n",
       "      <td>Trump Advisor Grovels To Trudeau</td>\n",
       "      <td>The Young Turks</td>\n",
       "      <td>25</td>\n",
       "      <td>2018-06-13T04:00:05.000Z</td>\n",
       "      <td>180612__TB02SorryExcuse|\"News\"|\"Politics\"|\"The...</td>\n",
       "      <td>115225</td>\n",
       "      <td>2115</td>\n",
       "      <td>182</td>\n",
       "      <td>1672</td>\n",
       "      <td>https://i.ytimg.com/vi/lbMKLzQ4cNQ/default.jpg</td>\n",
       "      <td>False</td>\n",
       "      <td>False</td>\n",
       "      <td>False</td>\n",
       "      <td>Peter Navarro isn’t talking so tough now. Ana ...</td>\n",
       "    </tr>\n",
       "    <tr>\n",
       "      <th>40880</th>\n",
       "      <td>POTgw38-m58</td>\n",
       "      <td>18.14.06</td>\n",
       "      <td>【完整版】遇到恐怖情人該怎麼辦？2018.06.13小明星大跟班</td>\n",
       "      <td>我愛小明星大跟班</td>\n",
       "      <td>24</td>\n",
       "      <td>2018-06-13T16:00:03.000Z</td>\n",
       "      <td>吳宗憲|\"吳姍儒\"|\"小明星大跟班\"|\"Sandy\"|\"Jacky wu\"|\"憲哥\"|\"中天...</td>\n",
       "      <td>107392</td>\n",
       "      <td>300</td>\n",
       "      <td>62</td>\n",
       "      <td>251</td>\n",
       "      <td>https://i.ytimg.com/vi/POTgw38-m58/default.jpg</td>\n",
       "      <td>False</td>\n",
       "      <td>False</td>\n",
       "      <td>False</td>\n",
       "      <td>藝人：李妍瑾、玉兔、班傑、LaLa、小優、少少專家：陳筱屏(律師)、Wendy(心理師)、羅...</td>\n",
       "    </tr>\n",
       "  </tbody>\n",
       "</table>\n",
       "<p>40881 rows × 16 columns</p>\n",
       "</div>"
      ],
      "text/plain": [
       "          video_id trending_date  \\\n",
       "0      n1WpP7iowLc      17.14.11   \n",
       "1      0dBIkQ4Mz1M      17.14.11   \n",
       "2      5qpjK5DgCt4      17.14.11   \n",
       "3      d380meD0W0M      17.14.11   \n",
       "4      2Vv-BfVoq4g      17.14.11   \n",
       "...            ...           ...   \n",
       "40876  sGolxsMSGfQ      18.14.06   \n",
       "40877  8HNuRNi8t70      18.14.06   \n",
       "40878  GWlKEM3m2EE      18.14.06   \n",
       "40879  lbMKLzQ4cNQ      18.14.06   \n",
       "40880  POTgw38-m58      18.14.06   \n",
       "\n",
       "                                                   title     channel_title  \\\n",
       "0             Eminem - Walk On Water (Audio) ft. Beyoncé        EminemVEVO   \n",
       "1                          PLUSH - Bad Unboxing Fan Mail         iDubbbzTV   \n",
       "2      Racist Superman | Rudy Mancuso, King Bach & Le...      Rudy Mancuso   \n",
       "3                               I Dare You: GOING BALD!?          nigahiga   \n",
       "4            Ed Sheeran - Perfect (Official Music Video)        Ed Sheeran   \n",
       "...                                                  ...               ...   \n",
       "40876                       HOW2: How to Solve a Mystery   Annoying Orange   \n",
       "40877                   Eli Lik Lik Episode 13 Partie 01  Elhiwar Ettounsi   \n",
       "40878  KINGDOM HEARTS III – SQUARE ENIX E3 SHOWCASE 2...    Kingdom Hearts   \n",
       "40879                   Trump Advisor Grovels To Trudeau   The Young Turks   \n",
       "40880                   【完整版】遇到恐怖情人該怎麼辦？2018.06.13小明星大跟班          我愛小明星大跟班   \n",
       "\n",
       "       category_id              publish_time  \\\n",
       "0               10  2017-11-10T17:00:03.000Z   \n",
       "1               23  2017-11-13T17:00:00.000Z   \n",
       "2               23  2017-11-12T19:05:24.000Z   \n",
       "3               24  2017-11-12T18:01:41.000Z   \n",
       "4               10  2017-11-09T11:04:14.000Z   \n",
       "...            ...                       ...   \n",
       "40876           24  2018-06-13T18:00:07.000Z   \n",
       "40877           24  2018-06-13T19:01:18.000Z   \n",
       "40878           20  2018-06-11T17:30:53.000Z   \n",
       "40879           25  2018-06-13T04:00:05.000Z   \n",
       "40880           24  2018-06-13T16:00:03.000Z   \n",
       "\n",
       "                                                    tags     views    likes  \\\n",
       "0      Eminem|\"Walk\"|\"On\"|\"Water\"|\"Aftermath/Shady/In...  17158579   787425   \n",
       "1      plush|\"bad unboxing\"|\"unboxing\"|\"fan mail\"|\"id...   1014651   127794   \n",
       "2      racist superman|\"rudy\"|\"mancuso\"|\"king\"|\"bach\"...   3191434   146035   \n",
       "3      ryan|\"higa\"|\"higatv\"|\"nigahiga\"|\"i dare you\"|\"...   2095828   132239   \n",
       "4      edsheeran|\"ed sheeran\"|\"acoustic\"|\"live\"|\"cove...  33523622  1634130   \n",
       "...                                                  ...       ...      ...   \n",
       "40876  annoying orange|\"funny\"|\"fruit\"|\"talking\"|\"ani...     80685     1701   \n",
       "40877  hkayet tounsia|\"elhiwar ettounsi\"|\"denya okhra...    103339      460   \n",
       "40878  Kingdom Hearts|\"KH3\"|\"Kingdom Hearts 3\"|\"Froze...    773347    25900   \n",
       "40879  180612__TB02SorryExcuse|\"News\"|\"Politics\"|\"The...    115225     2115   \n",
       "40880  吳宗憲|\"吳姍儒\"|\"小明星大跟班\"|\"Sandy\"|\"Jacky wu\"|\"憲哥\"|\"中天...    107392      300   \n",
       "\n",
       "       dislikes  comment_count  \\\n",
       "0         43420         125882   \n",
       "1          1688          13030   \n",
       "2          5339           8181   \n",
       "3          1989          17518   \n",
       "4         21082          85067   \n",
       "...         ...            ...   \n",
       "40876        99           1312   \n",
       "40877        66             51   \n",
       "40878       224           3881   \n",
       "40879       182           1672   \n",
       "40880        62            251   \n",
       "\n",
       "                                       thumbnail_link  comments_disabled  \\\n",
       "0      https://i.ytimg.com/vi/n1WpP7iowLc/default.jpg              False   \n",
       "1      https://i.ytimg.com/vi/0dBIkQ4Mz1M/default.jpg              False   \n",
       "2      https://i.ytimg.com/vi/5qpjK5DgCt4/default.jpg              False   \n",
       "3      https://i.ytimg.com/vi/d380meD0W0M/default.jpg              False   \n",
       "4      https://i.ytimg.com/vi/2Vv-BfVoq4g/default.jpg              False   \n",
       "...                                               ...                ...   \n",
       "40876  https://i.ytimg.com/vi/sGolxsMSGfQ/default.jpg              False   \n",
       "40877  https://i.ytimg.com/vi/8HNuRNi8t70/default.jpg              False   \n",
       "40878  https://i.ytimg.com/vi/GWlKEM3m2EE/default.jpg              False   \n",
       "40879  https://i.ytimg.com/vi/lbMKLzQ4cNQ/default.jpg              False   \n",
       "40880  https://i.ytimg.com/vi/POTgw38-m58/default.jpg              False   \n",
       "\n",
       "       ratings_disabled  video_error_or_removed  \\\n",
       "0                 False                   False   \n",
       "1                 False                   False   \n",
       "2                 False                   False   \n",
       "3                 False                   False   \n",
       "4                 False                   False   \n",
       "...                 ...                     ...   \n",
       "40876             False                   False   \n",
       "40877             False                   False   \n",
       "40878             False                   False   \n",
       "40879             False                   False   \n",
       "40880             False                   False   \n",
       "\n",
       "                                             description  \n",
       "0      Eminem's new track Walk on Water ft. Beyoncé i...  \n",
       "1      STill got a lot of packages. Probably will las...  \n",
       "2      WATCH MY PREVIOUS VIDEO ▶ \\n\\nSUBSCRIBE ► http...  \n",
       "3      I know it's been a while since we did this sho...  \n",
       "4      🎧: https://ad.gt/yt-perfect\\n💰: https://atlant...  \n",
       "...                                                  ...  \n",
       "40876  🚨 NEW MERCH! http://amzn.to/annoyingorange 🚨➤ ...  \n",
       "40877  ► Retrouvez vos programmes préférés : https://...  \n",
       "40878  Find out more about Kingdom Hearts 3: https://...  \n",
       "40879  Peter Navarro isn’t talking so tough now. Ana ...  \n",
       "40880  藝人：李妍瑾、玉兔、班傑、LaLa、小優、少少專家：陳筱屏(律師)、Wendy(心理師)、羅...  \n",
       "\n",
       "[40881 rows x 16 columns]"
      ]
     },
     "execution_count": 12,
     "metadata": {},
     "output_type": "execute_result"
    }
   ],
   "source": [
    "df # df=dataframe"
   ]
  },
  {
   "cell_type": "code",
   "execution_count": 13,
   "metadata": {
    "colab": {
     "base_uri": "https://localhost:8080/"
    },
    "executionInfo": {
     "elapsed": 44,
     "status": "ok",
     "timestamp": 1625393308966,
     "user": {
      "displayName": "Sachin Saini",
      "photoUrl": "https://lh3.googleusercontent.com/a-/AOh14GiHbfUSeFVa_S61CnvuYVpLUvbpVaS90wIIKN9EfQ=s64",
      "userId": "17325008912649652637"
     },
     "user_tz": -330
    },
    "id": "kABNk_Of_QDH",
    "outputId": "1f516678-d0db-423e-e4c9-acd333a2f387"
   },
   "outputs": [
    {
     "name": "stdout",
     "output_type": "stream",
     "text": [
      "<class 'pandas.core.frame.DataFrame'>\n",
      "RangeIndex: 40881 entries, 0 to 40880\n",
      "Data columns (total 16 columns):\n",
      " #   Column                  Non-Null Count  Dtype \n",
      "---  ------                  --------------  ----- \n",
      " 0   video_id                40881 non-null  object\n",
      " 1   trending_date           40881 non-null  object\n",
      " 2   title                   40881 non-null  object\n",
      " 3   channel_title           40881 non-null  object\n",
      " 4   category_id             40881 non-null  int64 \n",
      " 5   publish_time            40881 non-null  object\n",
      " 6   tags                    40881 non-null  object\n",
      " 7   views                   40881 non-null  int64 \n",
      " 8   likes                   40881 non-null  int64 \n",
      " 9   dislikes                40881 non-null  int64 \n",
      " 10  comment_count           40881 non-null  int64 \n",
      " 11  thumbnail_link          40881 non-null  object\n",
      " 12  comments_disabled       40881 non-null  bool  \n",
      " 13  ratings_disabled        40881 non-null  bool  \n",
      " 14  video_error_or_removed  40881 non-null  bool  \n",
      " 15  description             39585 non-null  object\n",
      "dtypes: bool(3), int64(5), object(8)\n",
      "memory usage: 4.2+ MB\n"
     ]
    }
   ],
   "source": [
    "df.info() # gives information of data."
   ]
  },
  {
   "cell_type": "code",
   "execution_count": 14,
   "metadata": {
    "colab": {
     "base_uri": "https://localhost:8080/",
     "height": 300
    },
    "executionInfo": {
     "elapsed": 40,
     "status": "ok",
     "timestamp": 1625393308967,
     "user": {
      "displayName": "Sachin Saini",
      "photoUrl": "https://lh3.googleusercontent.com/a-/AOh14GiHbfUSeFVa_S61CnvuYVpLUvbpVaS90wIIKN9EfQ=s64",
      "userId": "17325008912649652637"
     },
     "user_tz": -330
    },
    "id": "vAoLRyxU_QDI",
    "outputId": "16337e3f-dac3-4b35-fcfd-5ae77ccd071c"
   },
   "outputs": [
    {
     "data": {
      "text/html": [
       "<div>\n",
       "<style scoped>\n",
       "    .dataframe tbody tr th:only-of-type {\n",
       "        vertical-align: middle;\n",
       "    }\n",
       "\n",
       "    .dataframe tbody tr th {\n",
       "        vertical-align: top;\n",
       "    }\n",
       "\n",
       "    .dataframe thead th {\n",
       "        text-align: right;\n",
       "    }\n",
       "</style>\n",
       "<table border=\"1\" class=\"dataframe\">\n",
       "  <thead>\n",
       "    <tr style=\"text-align: right;\">\n",
       "      <th></th>\n",
       "      <th>category_id</th>\n",
       "      <th>views</th>\n",
       "      <th>likes</th>\n",
       "      <th>dislikes</th>\n",
       "      <th>comment_count</th>\n",
       "    </tr>\n",
       "  </thead>\n",
       "  <tbody>\n",
       "    <tr>\n",
       "      <th>count</th>\n",
       "      <td>40881.000000</td>\n",
       "      <td>4.088100e+04</td>\n",
       "      <td>4.088100e+04</td>\n",
       "      <td>4.088100e+04</td>\n",
       "      <td>4.088100e+04</td>\n",
       "    </tr>\n",
       "    <tr>\n",
       "      <th>mean</th>\n",
       "      <td>20.795553</td>\n",
       "      <td>1.147036e+06</td>\n",
       "      <td>3.958269e+04</td>\n",
       "      <td>2.009195e+03</td>\n",
       "      <td>5.042975e+03</td>\n",
       "    </tr>\n",
       "    <tr>\n",
       "      <th>std</th>\n",
       "      <td>6.775054</td>\n",
       "      <td>3.390913e+06</td>\n",
       "      <td>1.326895e+05</td>\n",
       "      <td>1.900837e+04</td>\n",
       "      <td>2.157902e+04</td>\n",
       "    </tr>\n",
       "    <tr>\n",
       "      <th>min</th>\n",
       "      <td>1.000000</td>\n",
       "      <td>7.330000e+02</td>\n",
       "      <td>0.000000e+00</td>\n",
       "      <td>0.000000e+00</td>\n",
       "      <td>0.000000e+00</td>\n",
       "    </tr>\n",
       "    <tr>\n",
       "      <th>25%</th>\n",
       "      <td>20.000000</td>\n",
       "      <td>1.439020e+05</td>\n",
       "      <td>2.191000e+03</td>\n",
       "      <td>9.900000e+01</td>\n",
       "      <td>4.170000e+02</td>\n",
       "    </tr>\n",
       "    <tr>\n",
       "      <th>50%</th>\n",
       "      <td>24.000000</td>\n",
       "      <td>3.712040e+05</td>\n",
       "      <td>8.780000e+03</td>\n",
       "      <td>3.030000e+02</td>\n",
       "      <td>1.301000e+03</td>\n",
       "    </tr>\n",
       "    <tr>\n",
       "      <th>75%</th>\n",
       "      <td>24.000000</td>\n",
       "      <td>9.633020e+05</td>\n",
       "      <td>2.871700e+04</td>\n",
       "      <td>9.500000e+02</td>\n",
       "      <td>3.713000e+03</td>\n",
       "    </tr>\n",
       "    <tr>\n",
       "      <th>max</th>\n",
       "      <td>43.000000</td>\n",
       "      <td>1.378431e+08</td>\n",
       "      <td>5.053338e+06</td>\n",
       "      <td>1.602383e+06</td>\n",
       "      <td>1.114800e+06</td>\n",
       "    </tr>\n",
       "  </tbody>\n",
       "</table>\n",
       "</div>"
      ],
      "text/plain": [
       "        category_id         views         likes      dislikes  comment_count\n",
       "count  40881.000000  4.088100e+04  4.088100e+04  4.088100e+04   4.088100e+04\n",
       "mean      20.795553  1.147036e+06  3.958269e+04  2.009195e+03   5.042975e+03\n",
       "std        6.775054  3.390913e+06  1.326895e+05  1.900837e+04   2.157902e+04\n",
       "min        1.000000  7.330000e+02  0.000000e+00  0.000000e+00   0.000000e+00\n",
       "25%       20.000000  1.439020e+05  2.191000e+03  9.900000e+01   4.170000e+02\n",
       "50%       24.000000  3.712040e+05  8.780000e+03  3.030000e+02   1.301000e+03\n",
       "75%       24.000000  9.633020e+05  2.871700e+04  9.500000e+02   3.713000e+03\n",
       "max       43.000000  1.378431e+08  5.053338e+06  1.602383e+06   1.114800e+06"
      ]
     },
     "execution_count": 14,
     "metadata": {},
     "output_type": "execute_result"
    }
   ],
   "source": [
    "df.describe()  # it gives us the statiscal value of the data."
   ]
  },
  {
   "cell_type": "code",
   "execution_count": 15,
   "metadata": {
    "colab": {
     "base_uri": "https://localhost:8080/",
     "height": 443
    },
    "executionInfo": {
     "elapsed": 38,
     "status": "ok",
     "timestamp": 1625393308968,
     "user": {
      "displayName": "Sachin Saini",
      "photoUrl": "https://lh3.googleusercontent.com/a-/AOh14GiHbfUSeFVa_S61CnvuYVpLUvbpVaS90wIIKN9EfQ=s64",
      "userId": "17325008912649652637"
     },
     "user_tz": -330
    },
    "id": "Aou0Mq8T_QDI",
    "outputId": "e35a6c7c-a4ad-4fbf-91e0-de639652ab98"
   },
   "outputs": [
    {
     "data": {
      "text/html": [
       "<div>\n",
       "<style scoped>\n",
       "    .dataframe tbody tr th:only-of-type {\n",
       "        vertical-align: middle;\n",
       "    }\n",
       "\n",
       "    .dataframe tbody tr th {\n",
       "        vertical-align: top;\n",
       "    }\n",
       "\n",
       "    .dataframe thead th {\n",
       "        text-align: right;\n",
       "    }\n",
       "</style>\n",
       "<table border=\"1\" class=\"dataframe\">\n",
       "  <thead>\n",
       "    <tr style=\"text-align: right;\">\n",
       "      <th></th>\n",
       "      <th>video_id</th>\n",
       "      <th>trending_date</th>\n",
       "      <th>title</th>\n",
       "      <th>channel_title</th>\n",
       "      <th>category_id</th>\n",
       "      <th>publish_time</th>\n",
       "      <th>tags</th>\n",
       "      <th>views</th>\n",
       "      <th>likes</th>\n",
       "      <th>dislikes</th>\n",
       "      <th>comment_count</th>\n",
       "      <th>thumbnail_link</th>\n",
       "      <th>comments_disabled</th>\n",
       "      <th>ratings_disabled</th>\n",
       "      <th>video_error_or_removed</th>\n",
       "      <th>description</th>\n",
       "    </tr>\n",
       "  </thead>\n",
       "  <tbody>\n",
       "    <tr>\n",
       "      <th>0</th>\n",
       "      <td>False</td>\n",
       "      <td>False</td>\n",
       "      <td>False</td>\n",
       "      <td>False</td>\n",
       "      <td>False</td>\n",
       "      <td>False</td>\n",
       "      <td>False</td>\n",
       "      <td>False</td>\n",
       "      <td>False</td>\n",
       "      <td>False</td>\n",
       "      <td>False</td>\n",
       "      <td>False</td>\n",
       "      <td>False</td>\n",
       "      <td>False</td>\n",
       "      <td>False</td>\n",
       "      <td>False</td>\n",
       "    </tr>\n",
       "    <tr>\n",
       "      <th>1</th>\n",
       "      <td>False</td>\n",
       "      <td>False</td>\n",
       "      <td>False</td>\n",
       "      <td>False</td>\n",
       "      <td>False</td>\n",
       "      <td>False</td>\n",
       "      <td>False</td>\n",
       "      <td>False</td>\n",
       "      <td>False</td>\n",
       "      <td>False</td>\n",
       "      <td>False</td>\n",
       "      <td>False</td>\n",
       "      <td>False</td>\n",
       "      <td>False</td>\n",
       "      <td>False</td>\n",
       "      <td>False</td>\n",
       "    </tr>\n",
       "    <tr>\n",
       "      <th>2</th>\n",
       "      <td>False</td>\n",
       "      <td>False</td>\n",
       "      <td>False</td>\n",
       "      <td>False</td>\n",
       "      <td>False</td>\n",
       "      <td>False</td>\n",
       "      <td>False</td>\n",
       "      <td>False</td>\n",
       "      <td>False</td>\n",
       "      <td>False</td>\n",
       "      <td>False</td>\n",
       "      <td>False</td>\n",
       "      <td>False</td>\n",
       "      <td>False</td>\n",
       "      <td>False</td>\n",
       "      <td>False</td>\n",
       "    </tr>\n",
       "    <tr>\n",
       "      <th>3</th>\n",
       "      <td>False</td>\n",
       "      <td>False</td>\n",
       "      <td>False</td>\n",
       "      <td>False</td>\n",
       "      <td>False</td>\n",
       "      <td>False</td>\n",
       "      <td>False</td>\n",
       "      <td>False</td>\n",
       "      <td>False</td>\n",
       "      <td>False</td>\n",
       "      <td>False</td>\n",
       "      <td>False</td>\n",
       "      <td>False</td>\n",
       "      <td>False</td>\n",
       "      <td>False</td>\n",
       "      <td>False</td>\n",
       "    </tr>\n",
       "    <tr>\n",
       "      <th>4</th>\n",
       "      <td>False</td>\n",
       "      <td>False</td>\n",
       "      <td>False</td>\n",
       "      <td>False</td>\n",
       "      <td>False</td>\n",
       "      <td>False</td>\n",
       "      <td>False</td>\n",
       "      <td>False</td>\n",
       "      <td>False</td>\n",
       "      <td>False</td>\n",
       "      <td>False</td>\n",
       "      <td>False</td>\n",
       "      <td>False</td>\n",
       "      <td>False</td>\n",
       "      <td>False</td>\n",
       "      <td>False</td>\n",
       "    </tr>\n",
       "    <tr>\n",
       "      <th>...</th>\n",
       "      <td>...</td>\n",
       "      <td>...</td>\n",
       "      <td>...</td>\n",
       "      <td>...</td>\n",
       "      <td>...</td>\n",
       "      <td>...</td>\n",
       "      <td>...</td>\n",
       "      <td>...</td>\n",
       "      <td>...</td>\n",
       "      <td>...</td>\n",
       "      <td>...</td>\n",
       "      <td>...</td>\n",
       "      <td>...</td>\n",
       "      <td>...</td>\n",
       "      <td>...</td>\n",
       "      <td>...</td>\n",
       "    </tr>\n",
       "    <tr>\n",
       "      <th>40876</th>\n",
       "      <td>False</td>\n",
       "      <td>False</td>\n",
       "      <td>False</td>\n",
       "      <td>False</td>\n",
       "      <td>False</td>\n",
       "      <td>False</td>\n",
       "      <td>False</td>\n",
       "      <td>False</td>\n",
       "      <td>False</td>\n",
       "      <td>False</td>\n",
       "      <td>False</td>\n",
       "      <td>False</td>\n",
       "      <td>False</td>\n",
       "      <td>False</td>\n",
       "      <td>False</td>\n",
       "      <td>False</td>\n",
       "    </tr>\n",
       "    <tr>\n",
       "      <th>40877</th>\n",
       "      <td>False</td>\n",
       "      <td>False</td>\n",
       "      <td>False</td>\n",
       "      <td>False</td>\n",
       "      <td>False</td>\n",
       "      <td>False</td>\n",
       "      <td>False</td>\n",
       "      <td>False</td>\n",
       "      <td>False</td>\n",
       "      <td>False</td>\n",
       "      <td>False</td>\n",
       "      <td>False</td>\n",
       "      <td>False</td>\n",
       "      <td>False</td>\n",
       "      <td>False</td>\n",
       "      <td>False</td>\n",
       "    </tr>\n",
       "    <tr>\n",
       "      <th>40878</th>\n",
       "      <td>False</td>\n",
       "      <td>False</td>\n",
       "      <td>False</td>\n",
       "      <td>False</td>\n",
       "      <td>False</td>\n",
       "      <td>False</td>\n",
       "      <td>False</td>\n",
       "      <td>False</td>\n",
       "      <td>False</td>\n",
       "      <td>False</td>\n",
       "      <td>False</td>\n",
       "      <td>False</td>\n",
       "      <td>False</td>\n",
       "      <td>False</td>\n",
       "      <td>False</td>\n",
       "      <td>False</td>\n",
       "    </tr>\n",
       "    <tr>\n",
       "      <th>40879</th>\n",
       "      <td>False</td>\n",
       "      <td>False</td>\n",
       "      <td>False</td>\n",
       "      <td>False</td>\n",
       "      <td>False</td>\n",
       "      <td>False</td>\n",
       "      <td>False</td>\n",
       "      <td>False</td>\n",
       "      <td>False</td>\n",
       "      <td>False</td>\n",
       "      <td>False</td>\n",
       "      <td>False</td>\n",
       "      <td>False</td>\n",
       "      <td>False</td>\n",
       "      <td>False</td>\n",
       "      <td>False</td>\n",
       "    </tr>\n",
       "    <tr>\n",
       "      <th>40880</th>\n",
       "      <td>False</td>\n",
       "      <td>False</td>\n",
       "      <td>False</td>\n",
       "      <td>False</td>\n",
       "      <td>False</td>\n",
       "      <td>False</td>\n",
       "      <td>False</td>\n",
       "      <td>False</td>\n",
       "      <td>False</td>\n",
       "      <td>False</td>\n",
       "      <td>False</td>\n",
       "      <td>False</td>\n",
       "      <td>False</td>\n",
       "      <td>False</td>\n",
       "      <td>False</td>\n",
       "      <td>False</td>\n",
       "    </tr>\n",
       "  </tbody>\n",
       "</table>\n",
       "<p>40881 rows × 16 columns</p>\n",
       "</div>"
      ],
      "text/plain": [
       "       video_id  trending_date  title  channel_title  category_id  \\\n",
       "0         False          False  False          False        False   \n",
       "1         False          False  False          False        False   \n",
       "2         False          False  False          False        False   \n",
       "3         False          False  False          False        False   \n",
       "4         False          False  False          False        False   \n",
       "...         ...            ...    ...            ...          ...   \n",
       "40876     False          False  False          False        False   \n",
       "40877     False          False  False          False        False   \n",
       "40878     False          False  False          False        False   \n",
       "40879     False          False  False          False        False   \n",
       "40880     False          False  False          False        False   \n",
       "\n",
       "       publish_time   tags  views  likes  dislikes  comment_count  \\\n",
       "0             False  False  False  False     False          False   \n",
       "1             False  False  False  False     False          False   \n",
       "2             False  False  False  False     False          False   \n",
       "3             False  False  False  False     False          False   \n",
       "4             False  False  False  False     False          False   \n",
       "...             ...    ...    ...    ...       ...            ...   \n",
       "40876         False  False  False  False     False          False   \n",
       "40877         False  False  False  False     False          False   \n",
       "40878         False  False  False  False     False          False   \n",
       "40879         False  False  False  False     False          False   \n",
       "40880         False  False  False  False     False          False   \n",
       "\n",
       "       thumbnail_link  comments_disabled  ratings_disabled  \\\n",
       "0               False              False             False   \n",
       "1               False              False             False   \n",
       "2               False              False             False   \n",
       "3               False              False             False   \n",
       "4               False              False             False   \n",
       "...               ...                ...               ...   \n",
       "40876           False              False             False   \n",
       "40877           False              False             False   \n",
       "40878           False              False             False   \n",
       "40879           False              False             False   \n",
       "40880           False              False             False   \n",
       "\n",
       "       video_error_or_removed  description  \n",
       "0                       False        False  \n",
       "1                       False        False  \n",
       "2                       False        False  \n",
       "3                       False        False  \n",
       "4                       False        False  \n",
       "...                       ...          ...  \n",
       "40876                   False        False  \n",
       "40877                   False        False  \n",
       "40878                   False        False  \n",
       "40879                   False        False  \n",
       "40880                   False        False  \n",
       "\n",
       "[40881 rows x 16 columns]"
      ]
     },
     "execution_count": 15,
     "metadata": {},
     "output_type": "execute_result"
    }
   ],
   "source": [
    "df.isnull() # it is used to check whether there is null value or not in the data."
   ]
  },
  {
   "cell_type": "code",
   "execution_count": 16,
   "metadata": {
    "colab": {
     "base_uri": "https://localhost:8080/"
    },
    "executionInfo": {
     "elapsed": 40,
     "status": "ok",
     "timestamp": 1625393308973,
     "user": {
      "displayName": "Sachin Saini",
      "photoUrl": "https://lh3.googleusercontent.com/a-/AOh14GiHbfUSeFVa_S61CnvuYVpLUvbpVaS90wIIKN9EfQ=s64",
      "userId": "17325008912649652637"
     },
     "user_tz": -330
    },
    "id": "3mRo-j8W_QDI",
    "outputId": "689ae8e2-3fc5-47cc-8d03-82e01b3196bf"
   },
   "outputs": [
    {
     "data": {
      "text/plain": [
       "array(['EminemVEVO', 'iDubbbzTV', 'Rudy Mancuso', ..., 'SevenSuperGirls',\n",
       "       'Corridor', 'DKDKTV'], dtype=object)"
      ]
     },
     "execution_count": 16,
     "metadata": {},
     "output_type": "execute_result"
    }
   ],
   "source": [
    "df.channel_title.unique() # gives array of unique channel_title"
   ]
  },
  {
   "cell_type": "code",
   "execution_count": 17,
   "metadata": {
    "colab": {
     "base_uri": "https://localhost:8080/",
     "height": 833
    },
    "executionInfo": {
     "elapsed": 38,
     "status": "ok",
     "timestamp": 1625393308976,
     "user": {
      "displayName": "Sachin Saini",
      "photoUrl": "https://lh3.googleusercontent.com/a-/AOh14GiHbfUSeFVa_S61CnvuYVpLUvbpVaS90wIIKN9EfQ=s64",
      "userId": "17325008912649652637"
     },
     "user_tz": -330
    },
    "id": "nBqe86GS_QDI",
    "outputId": "f03e98a5-3c9c-422c-a0f2-d082e2e07bc2"
   },
   "outputs": [
    {
     "data": {
      "text/html": [
       "<div>\n",
       "<style scoped>\n",
       "    .dataframe tbody tr th:only-of-type {\n",
       "        vertical-align: middle;\n",
       "    }\n",
       "\n",
       "    .dataframe tbody tr th {\n",
       "        vertical-align: top;\n",
       "    }\n",
       "\n",
       "    .dataframe thead th {\n",
       "        text-align: right;\n",
       "    }\n",
       "</style>\n",
       "<table border=\"1\" class=\"dataframe\">\n",
       "  <thead>\n",
       "    <tr style=\"text-align: right;\">\n",
       "      <th></th>\n",
       "      <th>video_id</th>\n",
       "      <th>trending_date</th>\n",
       "      <th>title</th>\n",
       "      <th>channel_title</th>\n",
       "      <th>category_id</th>\n",
       "      <th>publish_time</th>\n",
       "      <th>tags</th>\n",
       "      <th>views</th>\n",
       "      <th>likes</th>\n",
       "      <th>dislikes</th>\n",
       "      <th>comment_count</th>\n",
       "      <th>thumbnail_link</th>\n",
       "      <th>comments_disabled</th>\n",
       "      <th>ratings_disabled</th>\n",
       "      <th>video_error_or_removed</th>\n",
       "      <th>description</th>\n",
       "    </tr>\n",
       "  </thead>\n",
       "  <tbody>\n",
       "    <tr>\n",
       "      <th>36453</th>\n",
       "      <td>7C2z4GqqS5E</td>\n",
       "      <td>18.23.05</td>\n",
       "      <td>BTS (방탄소년단) 'FAKE LOVE' Official MV</td>\n",
       "      <td>ibighit</td>\n",
       "      <td>10</td>\n",
       "      <td>2018-05-18T09:00:02.000Z</td>\n",
       "      <td>BIGHIT|\"빅히트\"|\"방탄소년단\"|\"BTS\"|\"BANGTAN\"|\"방탄\"|\"FAK...</td>\n",
       "      <td>80738011</td>\n",
       "      <td>5053338</td>\n",
       "      <td>165854</td>\n",
       "      <td>1114800</td>\n",
       "      <td>https://i.ytimg.com/vi/7C2z4GqqS5E/default.jpg</td>\n",
       "      <td>False</td>\n",
       "      <td>False</td>\n",
       "      <td>False</td>\n",
       "      <td>BTS (방탄소년단) 'FAKE LOVE' Official MVDirector : ...</td>\n",
       "    </tr>\n",
       "    <tr>\n",
       "      <th>36153</th>\n",
       "      <td>7C2z4GqqS5E</td>\n",
       "      <td>18.22.05</td>\n",
       "      <td>BTS (방탄소년단) 'FAKE LOVE' Official MV</td>\n",
       "      <td>ibighit</td>\n",
       "      <td>10</td>\n",
       "      <td>2018-05-18T09:00:02.000Z</td>\n",
       "      <td>BIGHIT|\"빅히트\"|\"방탄소년단\"|\"BTS\"|\"BANGTAN\"|\"방탄\"|\"FAK...</td>\n",
       "      <td>73463137</td>\n",
       "      <td>4924056</td>\n",
       "      <td>156026</td>\n",
       "      <td>1084435</td>\n",
       "      <td>https://i.ytimg.com/vi/7C2z4GqqS5E/default.jpg</td>\n",
       "      <td>False</td>\n",
       "      <td>False</td>\n",
       "      <td>False</td>\n",
       "      <td>BTS (방탄소년단) 'FAKE LOVE' Official MVDirector : ...</td>\n",
       "    </tr>\n",
       "    <tr>\n",
       "      <th>35900</th>\n",
       "      <td>7C2z4GqqS5E</td>\n",
       "      <td>18.21.05</td>\n",
       "      <td>BTS (방탄소년단) 'FAKE LOVE' Official MV</td>\n",
       "      <td>ibighit</td>\n",
       "      <td>10</td>\n",
       "      <td>2018-05-18T09:00:02.000Z</td>\n",
       "      <td>BIGHIT|\"빅히트\"|\"방탄소년단\"|\"BTS\"|\"BANGTAN\"|\"방탄\"|\"FAK...</td>\n",
       "      <td>65396157</td>\n",
       "      <td>4750254</td>\n",
       "      <td>141966</td>\n",
       "      <td>1040912</td>\n",
       "      <td>https://i.ytimg.com/vi/7C2z4GqqS5E/default.jpg</td>\n",
       "      <td>False</td>\n",
       "      <td>False</td>\n",
       "      <td>False</td>\n",
       "      <td>BTS (방탄소년단) 'FAKE LOVE' Official MVDirector : ...</td>\n",
       "    </tr>\n",
       "    <tr>\n",
       "      <th>35685</th>\n",
       "      <td>7C2z4GqqS5E</td>\n",
       "      <td>18.20.05</td>\n",
       "      <td>BTS (방탄소년단) 'FAKE LOVE' Official MV</td>\n",
       "      <td>ibighit</td>\n",
       "      <td>10</td>\n",
       "      <td>2018-05-18T09:00:02.000Z</td>\n",
       "      <td>BIGHIT|\"빅히트\"|\"방탄소년단\"|\"BTS\"|\"BANGTAN\"|\"방탄\"|\"FAK...</td>\n",
       "      <td>62796390</td>\n",
       "      <td>4470888</td>\n",
       "      <td>119046</td>\n",
       "      <td>905912</td>\n",
       "      <td>https://i.ytimg.com/vi/7C2z4GqqS5E/default.jpg</td>\n",
       "      <td>False</td>\n",
       "      <td>False</td>\n",
       "      <td>False</td>\n",
       "      <td>BTS (방탄소년단) 'FAKE LOVE' Official MVDirector : ...</td>\n",
       "    </tr>\n",
       "    <tr>\n",
       "      <th>35515</th>\n",
       "      <td>7C2z4GqqS5E</td>\n",
       "      <td>18.19.05</td>\n",
       "      <td>BTS (방탄소년단) 'FAKE LOVE' Official MV</td>\n",
       "      <td>ibighit</td>\n",
       "      <td>10</td>\n",
       "      <td>2018-05-18T09:00:02.000Z</td>\n",
       "      <td>BIGHIT|\"빅히트\"|\"방탄소년단\"|\"BTS\"|\"BANGTAN\"|\"방탄\"</td>\n",
       "      <td>39349927</td>\n",
       "      <td>3880074</td>\n",
       "      <td>72707</td>\n",
       "      <td>692311</td>\n",
       "      <td>https://i.ytimg.com/vi/7C2z4GqqS5E/default.jpg</td>\n",
       "      <td>False</td>\n",
       "      <td>False</td>\n",
       "      <td>False</td>\n",
       "      <td>BTS (방탄소년단) 'FAKE LOVE' Official MVDirector : ...</td>\n",
       "    </tr>\n",
       "  </tbody>\n",
       "</table>\n",
       "</div>"
      ],
      "text/plain": [
       "          video_id trending_date                                title  \\\n",
       "36453  7C2z4GqqS5E      18.23.05  BTS (방탄소년단) 'FAKE LOVE' Official MV   \n",
       "36153  7C2z4GqqS5E      18.22.05  BTS (방탄소년단) 'FAKE LOVE' Official MV   \n",
       "35900  7C2z4GqqS5E      18.21.05  BTS (방탄소년단) 'FAKE LOVE' Official MV   \n",
       "35685  7C2z4GqqS5E      18.20.05  BTS (방탄소년단) 'FAKE LOVE' Official MV   \n",
       "35515  7C2z4GqqS5E      18.19.05  BTS (방탄소년단) 'FAKE LOVE' Official MV   \n",
       "\n",
       "      channel_title  category_id              publish_time  \\\n",
       "36453       ibighit           10  2018-05-18T09:00:02.000Z   \n",
       "36153       ibighit           10  2018-05-18T09:00:02.000Z   \n",
       "35900       ibighit           10  2018-05-18T09:00:02.000Z   \n",
       "35685       ibighit           10  2018-05-18T09:00:02.000Z   \n",
       "35515       ibighit           10  2018-05-18T09:00:02.000Z   \n",
       "\n",
       "                                                    tags     views    likes  \\\n",
       "36453  BIGHIT|\"빅히트\"|\"방탄소년단\"|\"BTS\"|\"BANGTAN\"|\"방탄\"|\"FAK...  80738011  5053338   \n",
       "36153  BIGHIT|\"빅히트\"|\"방탄소년단\"|\"BTS\"|\"BANGTAN\"|\"방탄\"|\"FAK...  73463137  4924056   \n",
       "35900  BIGHIT|\"빅히트\"|\"방탄소년단\"|\"BTS\"|\"BANGTAN\"|\"방탄\"|\"FAK...  65396157  4750254   \n",
       "35685  BIGHIT|\"빅히트\"|\"방탄소년단\"|\"BTS\"|\"BANGTAN\"|\"방탄\"|\"FAK...  62796390  4470888   \n",
       "35515          BIGHIT|\"빅히트\"|\"방탄소년단\"|\"BTS\"|\"BANGTAN\"|\"방탄\"  39349927  3880074   \n",
       "\n",
       "       dislikes  comment_count  \\\n",
       "36453    165854        1114800   \n",
       "36153    156026        1084435   \n",
       "35900    141966        1040912   \n",
       "35685    119046         905912   \n",
       "35515     72707         692311   \n",
       "\n",
       "                                       thumbnail_link  comments_disabled  \\\n",
       "36453  https://i.ytimg.com/vi/7C2z4GqqS5E/default.jpg              False   \n",
       "36153  https://i.ytimg.com/vi/7C2z4GqqS5E/default.jpg              False   \n",
       "35900  https://i.ytimg.com/vi/7C2z4GqqS5E/default.jpg              False   \n",
       "35685  https://i.ytimg.com/vi/7C2z4GqqS5E/default.jpg              False   \n",
       "35515  https://i.ytimg.com/vi/7C2z4GqqS5E/default.jpg              False   \n",
       "\n",
       "       ratings_disabled  video_error_or_removed  \\\n",
       "36453             False                   False   \n",
       "36153             False                   False   \n",
       "35900             False                   False   \n",
       "35685             False                   False   \n",
       "35515             False                   False   \n",
       "\n",
       "                                             description  \n",
       "36453  BTS (방탄소년단) 'FAKE LOVE' Official MVDirector : ...  \n",
       "36153  BTS (방탄소년단) 'FAKE LOVE' Official MVDirector : ...  \n",
       "35900  BTS (방탄소년단) 'FAKE LOVE' Official MVDirector : ...  \n",
       "35685  BTS (방탄소년단) 'FAKE LOVE' Official MVDirector : ...  \n",
       "35515  BTS (방탄소년단) 'FAKE LOVE' Official MVDirector : ...  "
      ]
     },
     "execution_count": 17,
     "metadata": {},
     "output_type": "execute_result"
    }
   ],
   "source": [
    "mostlikes=df.sort_values('likes',ascending=False).head(5) \n",
    "mostlikes #gives us the data of top most 5 liked videos."
   ]
  },
  {
   "cell_type": "markdown",
   "metadata": {
    "id": "yQKyNsm4_QDK"
   },
   "source": [
    "Above data frame shows the most liked 5 videos with likes, channel_title,dislikes etc."
   ]
  },
  {
   "cell_type": "code",
   "execution_count": 18,
   "metadata": {
    "executionInfo": {
     "elapsed": 36,
     "status": "ok",
     "timestamp": 1625393308977,
     "user": {
      "displayName": "Sachin Saini",
      "photoUrl": "https://lh3.googleusercontent.com/a-/AOh14GiHbfUSeFVa_S61CnvuYVpLUvbpVaS90wIIKN9EfQ=s64",
      "userId": "17325008912649652637"
     },
     "user_tz": -330
    },
    "id": "hj1eudPb_QDL"
   },
   "outputs": [],
   "source": [
    "import jovian"
   ]
  },
  {
   "cell_type": "code",
   "execution_count": 19,
   "metadata": {
    "colab": {
     "base_uri": "https://localhost:8080/",
     "height": 87
    },
    "executionInfo": {
     "elapsed": 1644,
     "status": "ok",
     "timestamp": 1625393310586,
     "user": {
      "displayName": "Sachin Saini",
      "photoUrl": "https://lh3.googleusercontent.com/a-/AOh14GiHbfUSeFVa_S61CnvuYVpLUvbpVaS90wIIKN9EfQ=s64",
      "userId": "17325008912649652637"
     },
     "user_tz": -330
    },
    "id": "CXzbxYwR_QDL",
    "outputId": "46ee4afb-bbf8-454c-a787-5ca53622958b"
   },
   "outputs": [
    {
     "data": {
      "application/javascript": [
       "window.require && require([\"base/js/namespace\"],function(Jupyter){Jupyter.notebook.save_checkpoint()})"
      ],
      "text/plain": [
       "<IPython.core.display.Javascript object>"
      ]
     },
     "metadata": {},
     "output_type": "display_data"
    },
    {
     "name": "stdout",
     "output_type": "stream",
     "text": [
      "[jovian] Updating notebook \"sainisachin393/new\" on https://jovian.ai\u001b[0m\n",
      "[jovian] Committed successfully! https://jovian.ai/sainisachin393/new\u001b[0m\n"
     ]
    },
    {
     "data": {
      "text/plain": [
       "'https://jovian.ai/sainisachin393/new'"
      ]
     },
     "execution_count": 19,
     "metadata": {},
     "output_type": "execute_result"
    }
   ],
   "source": [
    "jovian.commit()"
   ]
  },
  {
   "cell_type": "markdown",
   "metadata": {
    "id": "o2Kohuhn_pjl"
   },
   "source": [
    "## Exploratory Analysis and Visualization\n",
    "\n",
    "Now We are going to explore our data using some graphs.\n"
   ]
  },
  {
   "cell_type": "code",
   "execution_count": 20,
   "metadata": {
    "executionInfo": {
     "elapsed": 363,
     "status": "ok",
     "timestamp": 1625393394393,
     "user": {
      "displayName": "Sachin Saini",
      "photoUrl": "https://lh3.googleusercontent.com/a-/AOh14GiHbfUSeFVa_S61CnvuYVpLUvbpVaS90wIIKN9EfQ=s64",
      "userId": "17325008912649652637"
     },
     "user_tz": -330
    },
    "id": "bl7vHZ5R_jYL"
   },
   "outputs": [],
   "source": [
    "import seaborn as sns\n",
    "import matplotlib\n",
    "import matplotlib.pyplot as plt\n",
    "%matplotlib inline\n",
    "\n",
    "sns.set_style('darkgrid')\n",
    "matplotlib.rcParams['font.size'] = 14\n",
    "matplotlib.rcParams['figure.figsize'] = (12, 5)\n",
    "matplotlib.rcParams['figure.facecolor'] = '#00000000'"
   ]
  },
  {
   "cell_type": "markdown",
   "metadata": {
    "id": "Rl4hy8GZ_wbz"
   },
   "source": [
    "The histogram below shows the  total number of  liked videos from rows 9500 to 10000 ."
   ]
  },
  {
   "cell_type": "code",
   "execution_count": 21,
   "metadata": {
    "colab": {
     "base_uri": "https://localhost:8080/",
     "height": 312
    },
    "executionInfo": {
     "elapsed": 1246,
     "status": "ok",
     "timestamp": 1625393414210,
     "user": {
      "displayName": "Sachin Saini",
      "photoUrl": "https://lh3.googleusercontent.com/a-/AOh14GiHbfUSeFVa_S61CnvuYVpLUvbpVaS90wIIKN9EfQ=s64",
      "userId": "17325008912649652637"
     },
     "user_tz": -330
    },
    "id": "DyWp3w25_x2Q",
    "outputId": "78b27d5a-5cee-467f-cc99-6288b918da43"
   },
   "outputs": [
    {
     "data": {
      "image/png": "[encoded data removed]",
      "text/plain": [
       "<Figure size 864x360 with 1 Axes>"
      ]
     },
     "metadata": {
      "needs_background": "light"
     },
     "output_type": "display_data"
    }
   ],
   "source": [
    "df2=df.loc[9500:10000]\n",
    "plt.hist(df2.likes,bins=5,);\n",
    "plt.xlabel('likes');\n",
    "plt.ylabel('number of videos');\n",
    "plt.title(\"Graph of liked videos\");"
   ]
  },
  {
   "cell_type": "code",
   "execution_count": 22,
   "metadata": {
    "colab": {
     "base_uri": "https://localhost:8080/",
     "height": 314
    },
    "executionInfo": {
     "elapsed": 3769,
     "status": "ok",
     "timestamp": 1625393430260,
     "user": {
      "displayName": "Sachin Saini",
      "photoUrl": "https://lh3.googleusercontent.com/a-/AOh14GiHbfUSeFVa_S61CnvuYVpLUvbpVaS90wIIKN9EfQ=s64",
      "userId": "17325008912649652637"
     },
     "user_tz": -330
    },
    "id": "RKd9tCC2_zjx",
    "outputId": "9735cb0f-8f14-4430-fef4-06a98a2d3fc3"
   },
   "outputs": [
    {
     "data": {
      "image/png": "[encoded data removed]",
      "text/plain": [
       "<Figure size 864x360 with 1 Axes>"
      ]
     },
     "metadata": {
      "needs_background": "light"
     },
     "output_type": "display_data"
    }
   ],
   "source": [
    "sns.scatterplot(x=df.views,y=df.comment_count,s=50,hue=df.category_id);\n",
    "plt.title('Trending Videos');"
   ]
  },
  {
   "cell_type": "markdown",
   "metadata": {
    "id": "ISkYl-kd_4xN"
   },
   "source": [
    "Above is the scatter plot graph showing variation in comment_count and views of trending videos."
   ]
  },
  {
   "cell_type": "markdown",
   "metadata": {
    "id": "90862Nq6_6sH"
   },
   "source": [
    "We use drop  function to remove required columns from dataframe."
   ]
  },
  {
   "cell_type": "code",
   "execution_count": 23,
   "metadata": {
    "colab": {
     "base_uri": "https://localhost:8080/",
     "height": 423
    },
    "executionInfo": {
     "elapsed": 565,
     "status": "ok",
     "timestamp": 1625393455374,
     "user": {
      "displayName": "Sachin Saini",
      "photoUrl": "https://lh3.googleusercontent.com/a-/AOh14GiHbfUSeFVa_S61CnvuYVpLUvbpVaS90wIIKN9EfQ=s64",
      "userId": "17325008912649652637"
     },
     "user_tz": -330
    },
    "id": "BX_KzsN__8X8",
    "outputId": "9a431da2-72d6-4bec-da77-1c8a20315e62"
   },
   "outputs": [
    {
     "data": {
      "text/html": [
       "<div>\n",
       "<style scoped>\n",
       "    .dataframe tbody tr th:only-of-type {\n",
       "        vertical-align: middle;\n",
       "    }\n",
       "\n",
       "    .dataframe tbody tr th {\n",
       "        vertical-align: top;\n",
       "    }\n",
       "\n",
       "    .dataframe thead th {\n",
       "        text-align: right;\n",
       "    }\n",
       "</style>\n",
       "<table border=\"1\" class=\"dataframe\">\n",
       "  <thead>\n",
       "    <tr style=\"text-align: right;\">\n",
       "      <th></th>\n",
       "      <th>likes</th>\n",
       "      <th>dislikes</th>\n",
       "      <th>comment_count</th>\n",
       "    </tr>\n",
       "  </thead>\n",
       "  <tbody>\n",
       "    <tr>\n",
       "      <th>0</th>\n",
       "      <td>787425</td>\n",
       "      <td>43420</td>\n",
       "      <td>125882</td>\n",
       "    </tr>\n",
       "    <tr>\n",
       "      <th>1</th>\n",
       "      <td>127794</td>\n",
       "      <td>1688</td>\n",
       "      <td>13030</td>\n",
       "    </tr>\n",
       "    <tr>\n",
       "      <th>2</th>\n",
       "      <td>146035</td>\n",
       "      <td>5339</td>\n",
       "      <td>8181</td>\n",
       "    </tr>\n",
       "    <tr>\n",
       "      <th>3</th>\n",
       "      <td>132239</td>\n",
       "      <td>1989</td>\n",
       "      <td>17518</td>\n",
       "    </tr>\n",
       "    <tr>\n",
       "      <th>4</th>\n",
       "      <td>1634130</td>\n",
       "      <td>21082</td>\n",
       "      <td>85067</td>\n",
       "    </tr>\n",
       "    <tr>\n",
       "      <th>...</th>\n",
       "      <td>...</td>\n",
       "      <td>...</td>\n",
       "      <td>...</td>\n",
       "    </tr>\n",
       "    <tr>\n",
       "      <th>40876</th>\n",
       "      <td>1701</td>\n",
       "      <td>99</td>\n",
       "      <td>1312</td>\n",
       "    </tr>\n",
       "    <tr>\n",
       "      <th>40877</th>\n",
       "      <td>460</td>\n",
       "      <td>66</td>\n",
       "      <td>51</td>\n",
       "    </tr>\n",
       "    <tr>\n",
       "      <th>40878</th>\n",
       "      <td>25900</td>\n",
       "      <td>224</td>\n",
       "      <td>3881</td>\n",
       "    </tr>\n",
       "    <tr>\n",
       "      <th>40879</th>\n",
       "      <td>2115</td>\n",
       "      <td>182</td>\n",
       "      <td>1672</td>\n",
       "    </tr>\n",
       "    <tr>\n",
       "      <th>40880</th>\n",
       "      <td>300</td>\n",
       "      <td>62</td>\n",
       "      <td>251</td>\n",
       "    </tr>\n",
       "  </tbody>\n",
       "</table>\n",
       "<p>40881 rows × 3 columns</p>\n",
       "</div>"
      ],
      "text/plain": [
       "         likes  dislikes  comment_count\n",
       "0       787425     43420         125882\n",
       "1       127794      1688          13030\n",
       "2       146035      5339           8181\n",
       "3       132239      1989          17518\n",
       "4      1634130     21082          85067\n",
       "...        ...       ...            ...\n",
       "40876     1701        99           1312\n",
       "40877      460        66             51\n",
       "40878    25900       224           3881\n",
       "40879     2115       182           1672\n",
       "40880      300        62            251\n",
       "\n",
       "[40881 rows x 3 columns]"
      ]
     },
     "execution_count": 23,
     "metadata": {},
     "output_type": "execute_result"
    }
   ],
   "source": [
    "df4=df.drop(columns=['category_id','views','comments_disabled','title','trending_date','video_id','channel_title','publish_time','tags','thumbnail_link','ratings_disabled','description','video_error_or_removed'],axis=1)\n",
    "df4"
   ]
  },
  {
   "cell_type": "code",
   "execution_count": 24,
   "metadata": {
    "executionInfo": {
     "elapsed": 5,
     "status": "ok",
     "timestamp": 1625393463353,
     "user": {
      "displayName": "Sachin Saini",
      "photoUrl": "https://lh3.googleusercontent.com/a-/AOh14GiHbfUSeFVa_S61CnvuYVpLUvbpVaS90wIIKN9EfQ=s64",
      "userId": "17325008912649652637"
     },
     "user_tz": -330
    },
    "id": "AL_KcFrb_9xp"
   },
   "outputs": [],
   "source": [
    "df5=df4.loc[1000:1550] # Rows are between 10000 and 15000 because we have lots of row."
   ]
  },
  {
   "cell_type": "code",
   "execution_count": 25,
   "metadata": {
    "colab": {
     "base_uri": "https://localhost:8080/",
     "height": 319
    },
    "executionInfo": {
     "elapsed": 493,
     "status": "ok",
     "timestamp": 1625393483814,
     "user": {
      "displayName": "Sachin Saini",
      "photoUrl": "https://lh3.googleusercontent.com/a-/AOh14GiHbfUSeFVa_S61CnvuYVpLUvbpVaS90wIIKN9EfQ=s64",
      "userId": "17325008912649652637"
     },
     "user_tz": -330
    },
    "id": "Crj38BSk__0c",
    "outputId": "97f920bf-02cd-4e55-d20e-fd6ad15bd494"
   },
   "outputs": [
    {
     "data": {
      "image/png": "[encoded data removed]",
      "text/plain": [
       "<Figure size 864x360 with 2 Axes>"
      ]
     },
     "metadata": {
      "needs_background": "light"
     },
     "output_type": "display_data"
    }
   ],
   "source": [
    "sns.heatmap(df5,cmap='Greens',fmt='d');"
   ]
  },
  {
   "cell_type": "markdown",
   "metadata": {
    "id": "XphLR79bAIsu"
   },
   "source": [
    "Above heatmap is between likes,dislikes,comment_count of trending youtube videos."
   ]
  },
  {
   "cell_type": "code",
   "execution_count": 26,
   "metadata": {
    "colab": {
     "base_uri": "https://localhost:8080/",
     "height": 305
    },
    "executionInfo": {
     "elapsed": 1439,
     "status": "ok",
     "timestamp": 1625393518045,
     "user": {
      "displayName": "Sachin Saini",
      "photoUrl": "https://lh3.googleusercontent.com/a-/AOh14GiHbfUSeFVa_S61CnvuYVpLUvbpVaS90wIIKN9EfQ=s64",
      "userId": "17325008912649652637"
     },
     "user_tz": -330
    },
    "id": "u5M9Tpx8AJKT",
    "outputId": "f9a6ee3d-157e-448c-b724-0786e81731f5"
   },
   "outputs": [
    {
     "data": {
      "image/png": "[encoded data removed]",
      "text/plain": [
       "<Figure size 864x360 with 1 Axes>"
      ]
     },
     "metadata": {
      "needs_background": "light"
     },
     "output_type": "display_data"
    }
   ],
   "source": [
    "plt.title('Graph of disliked  videos');\n",
    "plt.xlabel('videos');\n",
    "plt.ylabel('dislike count');\n",
    "plt.plot(df.dislikes[1200:1350]);"
   ]
  },
  {
   "cell_type": "markdown",
   "metadata": {
    "id": "1MoHpoq_AN3a"
   },
   "source": [
    "Above graphs shows the dislikes of videos from 1200 to 1300."
   ]
  },
  {
   "cell_type": "markdown",
   "metadata": {
    "id": "RRPqwIujASLJ"
   },
   "source": [
    "Let us save and upload our work to Jovian before continuing"
   ]
  },
  {
   "cell_type": "code",
   "execution_count": 27,
   "metadata": {
    "executionInfo": {
     "elapsed": 377,
     "status": "ok",
     "timestamp": 1625393559210,
     "user": {
      "displayName": "Sachin Saini",
      "photoUrl": "https://lh3.googleusercontent.com/a-/AOh14GiHbfUSeFVa_S61CnvuYVpLUvbpVaS90wIIKN9EfQ=s64",
      "userId": "17325008912649652637"
     },
     "user_tz": -330
    },
    "id": "a6qRUWOQATqo"
   },
   "outputs": [],
   "source": [
    "import jovian"
   ]
  },
  {
   "cell_type": "code",
   "execution_count": 28,
   "metadata": {
    "colab": {
     "base_uri": "https://localhost:8080/",
     "height": 87
    },
    "executionInfo": {
     "elapsed": 3313,
     "status": "ok",
     "timestamp": 1625393568772,
     "user": {
      "displayName": "Sachin Saini",
      "photoUrl": "https://lh3.googleusercontent.com/a-/AOh14GiHbfUSeFVa_S61CnvuYVpLUvbpVaS90wIIKN9EfQ=s64",
      "userId": "17325008912649652637"
     },
     "user_tz": -330
    },
    "id": "QvDnfarfAXKX",
    "outputId": "dfb2375c-73ef-4a58-8b88-8627368975b8"
   },
   "outputs": [
    {
     "data": {
      "application/javascript": [
       "window.require && require([\"base/js/namespace\"],function(Jupyter){Jupyter.notebook.save_checkpoint()})"
      ],
      "text/plain": [
       "<IPython.core.display.Javascript object>"
      ]
     },
     "metadata": {},
     "output_type": "display_data"
    },
    {
     "name": "stdout",
     "output_type": "stream",
     "text": [
      "[jovian] Updating notebook \"sainisachin393/new\" on https://jovian.ai\u001b[0m\n",
      "[jovian] Committed successfully! https://jovian.ai/sainisachin393/new\u001b[0m\n"
     ]
    },
    {
     "data": {
      "text/plain": [
       "'https://jovian.ai/sainisachin393/new'"
      ]
     },
     "execution_count": 28,
     "metadata": {},
     "output_type": "execute_result"
    }
   ],
   "source": [
    "jovian.commit()"
   ]
  },
  {
   "cell_type": "markdown",
   "metadata": {
    "id": "FPG0t-ilAaiy"
   },
   "source": [
    "## Asking and Answering Questions\n",
    "\n",
    "\n"
   ]
  },
  {
   "cell_type": "markdown",
   "metadata": {
    "id": "FqRnAH-6Ab1G"
   },
   "source": [
    " As we have completed our analyis.Now,let us do some questions."
   ]
  },
  {
   "cell_type": "markdown",
   "metadata": {
    "id": "gLstYSnvAgHQ"
   },
   "source": [
    "####  Q1:  What are the  total number of views?"
   ]
  },
  {
   "cell_type": "code",
   "execution_count": 29,
   "metadata": {
    "colab": {
     "base_uri": "https://localhost:8080/"
    },
    "executionInfo": {
     "elapsed": 450,
     "status": "ok",
     "timestamp": 1625393618135,
     "user": {
      "displayName": "Sachin Saini",
      "photoUrl": "https://lh3.googleusercontent.com/a-/AOh14GiHbfUSeFVa_S61CnvuYVpLUvbpVaS90wIIKN9EfQ=s64",
      "userId": "17325008912649652637"
     },
     "user_tz": -330
    },
    "id": "eTTLhr6fAgsH",
    "outputId": "ad225f90-254b-4a57-d2f2-19a2b4b584c1"
   },
   "outputs": [
    {
     "data": {
      "text/plain": [
       "46891975069"
      ]
     },
     "execution_count": 29,
     "metadata": {},
     "output_type": "execute_result"
    }
   ],
   "source": [
    "df.views.sum()  # gives the total number of views of all videos."
   ]
  },
  {
   "cell_type": "markdown",
   "metadata": {
    "id": "-raR1TKUAnLL"
   },
   "source": [
    "#### Q2: Whatr are the top  5 Videos with most comments?"
   ]
  },
  {
   "cell_type": "code",
   "execution_count": 30,
   "metadata": {
    "colab": {
     "base_uri": "https://localhost:8080/",
     "height": 555
    },
    "executionInfo": {
     "elapsed": 381,
     "status": "ok",
     "timestamp": 1625393632945,
     "user": {
      "displayName": "Sachin Saini",
      "photoUrl": "https://lh3.googleusercontent.com/a-/AOh14GiHbfUSeFVa_S61CnvuYVpLUvbpVaS90wIIKN9EfQ=s64",
      "userId": "17325008912649652637"
     },
     "user_tz": -330
    },
    "id": "5Frf7_mvAnmT",
    "outputId": "c5b5edba-d59b-4e04-d055-c54802ae3abd"
   },
   "outputs": [
    {
     "data": {
      "text/html": [
       "<div>\n",
       "<style scoped>\n",
       "    .dataframe tbody tr th:only-of-type {\n",
       "        vertical-align: middle;\n",
       "    }\n",
       "\n",
       "    .dataframe tbody tr th {\n",
       "        vertical-align: top;\n",
       "    }\n",
       "\n",
       "    .dataframe thead th {\n",
       "        text-align: right;\n",
       "    }\n",
       "</style>\n",
       "<table border=\"1\" class=\"dataframe\">\n",
       "  <thead>\n",
       "    <tr style=\"text-align: right;\">\n",
       "      <th></th>\n",
       "      <th>video_id</th>\n",
       "      <th>trending_date</th>\n",
       "      <th>title</th>\n",
       "      <th>channel_title</th>\n",
       "      <th>category_id</th>\n",
       "      <th>publish_time</th>\n",
       "      <th>tags</th>\n",
       "      <th>views</th>\n",
       "      <th>likes</th>\n",
       "      <th>dislikes</th>\n",
       "      <th>comment_count</th>\n",
       "      <th>thumbnail_link</th>\n",
       "      <th>comments_disabled</th>\n",
       "      <th>ratings_disabled</th>\n",
       "      <th>video_error_or_removed</th>\n",
       "      <th>description</th>\n",
       "    </tr>\n",
       "  </thead>\n",
       "  <tbody>\n",
       "    <tr>\n",
       "      <th>0</th>\n",
       "      <td>n1WpP7iowLc</td>\n",
       "      <td>17.14.11</td>\n",
       "      <td>Eminem - Walk On Water (Audio) ft. Beyoncé</td>\n",
       "      <td>EminemVEVO</td>\n",
       "      <td>10</td>\n",
       "      <td>2017-11-10T17:00:03.000Z</td>\n",
       "      <td>Eminem|\"Walk\"|\"On\"|\"Water\"|\"Aftermath/Shady/In...</td>\n",
       "      <td>17158579</td>\n",
       "      <td>787425</td>\n",
       "      <td>43420</td>\n",
       "      <td>125882</td>\n",
       "      <td>https://i.ytimg.com/vi/n1WpP7iowLc/default.jpg</td>\n",
       "      <td>False</td>\n",
       "      <td>False</td>\n",
       "      <td>False</td>\n",
       "      <td>Eminem's new track Walk on Water ft. Beyoncé i...</td>\n",
       "    </tr>\n",
       "    <tr>\n",
       "      <th>4</th>\n",
       "      <td>2Vv-BfVoq4g</td>\n",
       "      <td>17.14.11</td>\n",
       "      <td>Ed Sheeran - Perfect (Official Music Video)</td>\n",
       "      <td>Ed Sheeran</td>\n",
       "      <td>10</td>\n",
       "      <td>2017-11-09T11:04:14.000Z</td>\n",
       "      <td>edsheeran|\"ed sheeran\"|\"acoustic\"|\"live\"|\"cove...</td>\n",
       "      <td>33523622</td>\n",
       "      <td>1634130</td>\n",
       "      <td>21082</td>\n",
       "      <td>85067</td>\n",
       "      <td>https://i.ytimg.com/vi/2Vv-BfVoq4g/default.jpg</td>\n",
       "      <td>False</td>\n",
       "      <td>False</td>\n",
       "      <td>False</td>\n",
       "      <td>🎧: https://ad.gt/yt-perfect\\n💰: https://atlant...</td>\n",
       "    </tr>\n",
       "    <tr>\n",
       "      <th>23</th>\n",
       "      <td>PRlmRnU9qts</td>\n",
       "      <td>17.14.11</td>\n",
       "      <td>Jake Paul - Saturday Night (Song) feat. Nick C...</td>\n",
       "      <td>Jake Paul</td>\n",
       "      <td>22</td>\n",
       "      <td>2017-11-12T00:26:46.000Z</td>\n",
       "      <td>Jake|\"Paul\"|\"logan\"|\"paul\"|\"its\"|\"every\"|\"day\"...</td>\n",
       "      <td>4204818</td>\n",
       "      <td>187890</td>\n",
       "      <td>167908</td>\n",
       "      <td>77348</td>\n",
       "      <td>https://i.ytimg.com/vi/PRlmRnU9qts/default.jpg</td>\n",
       "      <td>False</td>\n",
       "      <td>False</td>\n",
       "      <td>False</td>\n",
       "      <td>😃 SUBSCRIBE ► http://bit.ly/SUB2JAKEPAUL | ★ P...</td>\n",
       "    </tr>\n",
       "    <tr>\n",
       "      <th>87</th>\n",
       "      <td>k3kgQrU5-p0</td>\n",
       "      <td>17.14.11</td>\n",
       "      <td>Transforming a Homeless Mans Life... **SUPER E...</td>\n",
       "      <td>FaZe Rug</td>\n",
       "      <td>20</td>\n",
       "      <td>2017-11-11T02:35:26.000Z</td>\n",
       "      <td>faze rug|\"rug\"|\"faze\"|\"homeless\"|\"homeless mak...</td>\n",
       "      <td>1788176</td>\n",
       "      <td>178236</td>\n",
       "      <td>3054</td>\n",
       "      <td>46254</td>\n",
       "      <td>https://i.ytimg.com/vi/k3kgQrU5-p0/default.jpg</td>\n",
       "      <td>False</td>\n",
       "      <td>False</td>\n",
       "      <td>False</td>\n",
       "      <td>Today, I decide to give back to the community ...</td>\n",
       "    </tr>\n",
       "    <tr>\n",
       "      <th>8</th>\n",
       "      <td>JzCsM1vtn78</td>\n",
       "      <td>17.14.11</td>\n",
       "      <td>THE LOGANG MADE HISTORY. LOL. AGAIN.</td>\n",
       "      <td>Logan Paul Vlogs</td>\n",
       "      <td>24</td>\n",
       "      <td>2017-11-12T20:19:24.000Z</td>\n",
       "      <td>logan paul vlog|\"logan paul\"|\"logan\"|\"paul\"|\"o...</td>\n",
       "      <td>4477587</td>\n",
       "      <td>292837</td>\n",
       "      <td>4123</td>\n",
       "      <td>36391</td>\n",
       "      <td>https://i.ytimg.com/vi/JzCsM1vtn78/default.jpg</td>\n",
       "      <td>False</td>\n",
       "      <td>False</td>\n",
       "      <td>False</td>\n",
       "      <td>Join the movement. Be a Maverick ► https://Sho...</td>\n",
       "    </tr>\n",
       "  </tbody>\n",
       "</table>\n",
       "</div>"
      ],
      "text/plain": [
       "       video_id trending_date  \\\n",
       "0   n1WpP7iowLc      17.14.11   \n",
       "4   2Vv-BfVoq4g      17.14.11   \n",
       "23  PRlmRnU9qts      17.14.11   \n",
       "87  k3kgQrU5-p0      17.14.11   \n",
       "8   JzCsM1vtn78      17.14.11   \n",
       "\n",
       "                                                title     channel_title  \\\n",
       "0          Eminem - Walk On Water (Audio) ft. Beyoncé        EminemVEVO   \n",
       "4         Ed Sheeran - Perfect (Official Music Video)        Ed Sheeran   \n",
       "23  Jake Paul - Saturday Night (Song) feat. Nick C...         Jake Paul   \n",
       "87  Transforming a Homeless Mans Life... **SUPER E...          FaZe Rug   \n",
       "8                THE LOGANG MADE HISTORY. LOL. AGAIN.  Logan Paul Vlogs   \n",
       "\n",
       "    category_id              publish_time  \\\n",
       "0            10  2017-11-10T17:00:03.000Z   \n",
       "4            10  2017-11-09T11:04:14.000Z   \n",
       "23           22  2017-11-12T00:26:46.000Z   \n",
       "87           20  2017-11-11T02:35:26.000Z   \n",
       "8            24  2017-11-12T20:19:24.000Z   \n",
       "\n",
       "                                                 tags     views    likes  \\\n",
       "0   Eminem|\"Walk\"|\"On\"|\"Water\"|\"Aftermath/Shady/In...  17158579   787425   \n",
       "4   edsheeran|\"ed sheeran\"|\"acoustic\"|\"live\"|\"cove...  33523622  1634130   \n",
       "23  Jake|\"Paul\"|\"logan\"|\"paul\"|\"its\"|\"every\"|\"day\"...   4204818   187890   \n",
       "87  faze rug|\"rug\"|\"faze\"|\"homeless\"|\"homeless mak...   1788176   178236   \n",
       "8   logan paul vlog|\"logan paul\"|\"logan\"|\"paul\"|\"o...   4477587   292837   \n",
       "\n",
       "    dislikes  comment_count                                  thumbnail_link  \\\n",
       "0      43420         125882  https://i.ytimg.com/vi/n1WpP7iowLc/default.jpg   \n",
       "4      21082          85067  https://i.ytimg.com/vi/2Vv-BfVoq4g/default.jpg   \n",
       "23    167908          77348  https://i.ytimg.com/vi/PRlmRnU9qts/default.jpg   \n",
       "87      3054          46254  https://i.ytimg.com/vi/k3kgQrU5-p0/default.jpg   \n",
       "8       4123          36391  https://i.ytimg.com/vi/JzCsM1vtn78/default.jpg   \n",
       "\n",
       "    comments_disabled  ratings_disabled  video_error_or_removed  \\\n",
       "0               False             False                   False   \n",
       "4               False             False                   False   \n",
       "23              False             False                   False   \n",
       "87              False             False                   False   \n",
       "8               False             False                   False   \n",
       "\n",
       "                                          description  \n",
       "0   Eminem's new track Walk on Water ft. Beyoncé i...  \n",
       "4   🎧: https://ad.gt/yt-perfect\\n💰: https://atlant...  \n",
       "23  😃 SUBSCRIBE ► http://bit.ly/SUB2JAKEPAUL | ★ P...  \n",
       "87  Today, I decide to give back to the community ...  \n",
       "8   Join the movement. Be a Maverick ► https://Sho...  "
      ]
     },
     "execution_count": 30,
     "metadata": {},
     "output_type": "execute_result"
    }
   ],
   "source": [
    "l6=df.loc[0:210]\n",
    "l5=l6.sort_values(['comment_count'],ascending=False).head(5)\n",
    "l5"
   ]
  },
  {
   "cell_type": "code",
   "execution_count": 31,
   "metadata": {
    "colab": {
     "base_uri": "https://localhost:8080/",
     "height": 279
    },
    "executionInfo": {
     "elapsed": 1521,
     "status": "ok",
     "timestamp": 1625393651707,
     "user": {
      "displayName": "Sachin Saini",
      "photoUrl": "https://lh3.googleusercontent.com/a-/AOh14GiHbfUSeFVa_S61CnvuYVpLUvbpVaS90wIIKN9EfQ=s64",
      "userId": "17325008912649652637"
     },
     "user_tz": -330
    },
    "id": "71ikSQ41ApKb",
    "outputId": "531f809e-0c34-48dc-fe1a-9748ffcf84cb"
   },
   "outputs": [
    {
     "data": {
      "image/png": "[encoded data removed]",
      "text/plain": [
       "<Figure size 864x360 with 1 Axes>"
      ]
     },
     "metadata": {
      "needs_background": "light"
     },
     "output_type": "display_data"
    }
   ],
   "source": [
    "plt.plot(l5.comment_count,'o-r')\n",
    "plt.plot(l5.dislikes,'c--p');\n",
    "plt.legend(['comment_count','dislikes']);"
   ]
  },
  {
   "cell_type": "markdown",
   "metadata": {
    "id": "VLg32JETAve3"
   },
   "source": [
    "Above graph shows the dislikes on most commented videos.\n",
    "From above we can easily see that video which got nearabout 50000 dislikes that has 125000 comments in it.\n",
    "Most disliked   video has nearabout 76000 comments in it."
   ]
  },
  {
   "cell_type": "markdown",
   "metadata": {
    "id": "2Vw7sssnAyUd"
   },
   "source": [
    "#### Q3: Find the Average likes, dislikes, comments according to category_id?"
   ]
  },
  {
   "cell_type": "code",
   "execution_count": 32,
   "metadata": {
    "colab": {
     "base_uri": "https://localhost:8080/",
     "height": 613
    },
    "executionInfo": {
     "elapsed": 416,
     "status": "ok",
     "timestamp": 1625393681995,
     "user": {
      "displayName": "Sachin Saini",
      "photoUrl": "https://lh3.googleusercontent.com/a-/AOh14GiHbfUSeFVa_S61CnvuYVpLUvbpVaS90wIIKN9EfQ=s64",
      "userId": "17325008912649652637"
     },
     "user_tz": -330
    },
    "id": "1XlBL4Y0AyxK",
    "outputId": "5ec11303-d190-409d-a860-1a602f13b75a"
   },
   "outputs": [
    {
     "data": {
      "text/html": [
       "<div>\n",
       "<style scoped>\n",
       "    .dataframe tbody tr th:only-of-type {\n",
       "        vertical-align: middle;\n",
       "    }\n",
       "\n",
       "    .dataframe tbody tr th {\n",
       "        vertical-align: top;\n",
       "    }\n",
       "\n",
       "    .dataframe thead th {\n",
       "        text-align: right;\n",
       "    }\n",
       "</style>\n",
       "<table border=\"1\" class=\"dataframe\">\n",
       "  <thead>\n",
       "    <tr style=\"text-align: right;\">\n",
       "      <th></th>\n",
       "      <th>likes</th>\n",
       "      <th>dislikes</th>\n",
       "      <th>comment_count</th>\n",
       "    </tr>\n",
       "    <tr>\n",
       "      <th>category_id</th>\n",
       "      <th></th>\n",
       "      <th></th>\n",
       "      <th></th>\n",
       "    </tr>\n",
       "  </thead>\n",
       "  <tbody>\n",
       "    <tr>\n",
       "      <th>1</th>\n",
       "      <td>37767.962621</td>\n",
       "      <td>1510.319903</td>\n",
       "      <td>4896.394660</td>\n",
       "    </tr>\n",
       "    <tr>\n",
       "      <th>2</th>\n",
       "      <td>13405.422096</td>\n",
       "      <td>560.271955</td>\n",
       "      <td>2878.719547</td>\n",
       "    </tr>\n",
       "    <tr>\n",
       "      <th>10</th>\n",
       "      <td>151285.856339</td>\n",
       "      <td>5922.859823</td>\n",
       "      <td>14053.940499</td>\n",
       "    </tr>\n",
       "    <tr>\n",
       "      <th>15</th>\n",
       "      <td>23931.533875</td>\n",
       "      <td>501.363144</td>\n",
       "      <td>4941.837398</td>\n",
       "    </tr>\n",
       "    <tr>\n",
       "      <th>17</th>\n",
       "      <td>21330.972013</td>\n",
       "      <td>1179.177969</td>\n",
       "      <td>2748.956584</td>\n",
       "    </tr>\n",
       "    <tr>\n",
       "      <th>19</th>\n",
       "      <td>9568.658163</td>\n",
       "      <td>331.278061</td>\n",
       "      <td>1556.002551</td>\n",
       "    </tr>\n",
       "    <tr>\n",
       "      <th>20</th>\n",
       "      <td>38487.017857</td>\n",
       "      <td>1820.596726</td>\n",
       "      <td>7191.136161</td>\n",
       "    </tr>\n",
       "    <tr>\n",
       "      <th>22</th>\n",
       "      <td>25673.219001</td>\n",
       "      <td>2309.572716</td>\n",
       "      <td>4097.003898</td>\n",
       "    </tr>\n",
       "    <tr>\n",
       "      <th>23</th>\n",
       "      <td>51960.422475</td>\n",
       "      <td>1423.937185</td>\n",
       "      <td>5205.082428</td>\n",
       "    </tr>\n",
       "    <tr>\n",
       "      <th>24</th>\n",
       "      <td>28789.341536</td>\n",
       "      <td>1917.447253</td>\n",
       "      <td>4112.187644</td>\n",
       "    </tr>\n",
       "    <tr>\n",
       "      <th>25</th>\n",
       "      <td>7863.682135</td>\n",
       "      <td>784.813898</td>\n",
       "      <td>2226.445780</td>\n",
       "    </tr>\n",
       "    <tr>\n",
       "      <th>26</th>\n",
       "      <td>25502.293971</td>\n",
       "      <td>862.242152</td>\n",
       "      <td>4156.909317</td>\n",
       "    </tr>\n",
       "    <tr>\n",
       "      <th>27</th>\n",
       "      <td>21162.867810</td>\n",
       "      <td>800.653885</td>\n",
       "      <td>2995.374369</td>\n",
       "    </tr>\n",
       "    <tr>\n",
       "      <th>28</th>\n",
       "      <td>37068.916017</td>\n",
       "      <td>1550.781818</td>\n",
       "      <td>6241.748052</td>\n",
       "    </tr>\n",
       "    <tr>\n",
       "      <th>29</th>\n",
       "      <td>138413.689189</td>\n",
       "      <td>31429.824324</td>\n",
       "      <td>43547.851351</td>\n",
       "    </tr>\n",
       "    <tr>\n",
       "      <th>30</th>\n",
       "      <td>42150.833333</td>\n",
       "      <td>2046.666667</td>\n",
       "      <td>2329.833333</td>\n",
       "    </tr>\n",
       "    <tr>\n",
       "      <th>43</th>\n",
       "      <td>4752.120968</td>\n",
       "      <td>971.258065</td>\n",
       "      <td>622.927419</td>\n",
       "    </tr>\n",
       "  </tbody>\n",
       "</table>\n",
       "</div>"
      ],
      "text/plain": [
       "                     likes      dislikes  comment_count\n",
       "category_id                                            \n",
       "1             37767.962621   1510.319903    4896.394660\n",
       "2             13405.422096    560.271955    2878.719547\n",
       "10           151285.856339   5922.859823   14053.940499\n",
       "15            23931.533875    501.363144    4941.837398\n",
       "17            21330.972013   1179.177969    2748.956584\n",
       "19             9568.658163    331.278061    1556.002551\n",
       "20            38487.017857   1820.596726    7191.136161\n",
       "22            25673.219001   2309.572716    4097.003898\n",
       "23            51960.422475   1423.937185    5205.082428\n",
       "24            28789.341536   1917.447253    4112.187644\n",
       "25             7863.682135    784.813898    2226.445780\n",
       "26            25502.293971    862.242152    4156.909317\n",
       "27            21162.867810    800.653885    2995.374369\n",
       "28            37068.916017   1550.781818    6241.748052\n",
       "29           138413.689189  31429.824324   43547.851351\n",
       "30            42150.833333   2046.666667    2329.833333\n",
       "43             4752.120968    971.258065     622.927419"
      ]
     },
     "execution_count": 32,
     "metadata": {},
     "output_type": "execute_result"
    }
   ],
   "source": [
    "df.groupby('category_id')[['likes','dislikes','comment_count']].mean()"
   ]
  },
  {
   "cell_type": "markdown",
   "metadata": {
    "id": "dff9MBWiA3Lk"
   },
   "source": [
    "Above table showing the avg. likes, dislikes, comments of the videos."
   ]
  },
  {
   "cell_type": "markdown",
   "metadata": {
    "id": "Kiyn8tbwA7wk"
   },
   "source": [
    "#### Q4:  which video has maximum dislikes from a sample of 1000 videos?"
   ]
  },
  {
   "cell_type": "code",
   "execution_count": 33,
   "metadata": {
    "colab": {
     "base_uri": "https://localhost:8080/",
     "height": 1000
    },
    "executionInfo": {
     "elapsed": 400,
     "status": "ok",
     "timestamp": 1625393721355,
     "user": {
      "displayName": "Sachin Saini",
      "photoUrl": "https://lh3.googleusercontent.com/a-/AOh14GiHbfUSeFVa_S61CnvuYVpLUvbpVaS90wIIKN9EfQ=s64",
      "userId": "17325008912649652637"
     },
     "user_tz": -330
    },
    "id": "p41RpcZAA6i-",
    "outputId": "1f576003-3feb-4f91-c110-48b3c3999969"
   },
   "outputs": [
    {
     "data": {
      "text/html": [
       "<div>\n",
       "<style scoped>\n",
       "    .dataframe tbody tr th:only-of-type {\n",
       "        vertical-align: middle;\n",
       "    }\n",
       "\n",
       "    .dataframe tbody tr th {\n",
       "        vertical-align: top;\n",
       "    }\n",
       "\n",
       "    .dataframe thead th {\n",
       "        text-align: right;\n",
       "    }\n",
       "</style>\n",
       "<table border=\"1\" class=\"dataframe\">\n",
       "  <thead>\n",
       "    <tr style=\"text-align: right;\">\n",
       "      <th></th>\n",
       "      <th>video_id</th>\n",
       "      <th>trending_date</th>\n",
       "      <th>title</th>\n",
       "      <th>channel_title</th>\n",
       "      <th>category_id</th>\n",
       "      <th>publish_time</th>\n",
       "      <th>tags</th>\n",
       "      <th>views</th>\n",
       "      <th>likes</th>\n",
       "      <th>dislikes</th>\n",
       "      <th>comment_count</th>\n",
       "      <th>thumbnail_link</th>\n",
       "      <th>comments_disabled</th>\n",
       "      <th>ratings_disabled</th>\n",
       "      <th>video_error_or_removed</th>\n",
       "      <th>description</th>\n",
       "    </tr>\n",
       "  </thead>\n",
       "  <tbody>\n",
       "    <tr>\n",
       "      <th>27154</th>\n",
       "      <td>Ml9v3wHLuWI</td>\n",
       "      <td>18.01.04</td>\n",
       "      <td>Will Smith Tries Online Dating</td>\n",
       "      <td>Will Smith</td>\n",
       "      <td>24</td>\n",
       "      <td>2018-03-29T18:10:37.000Z</td>\n",
       "      <td>comedy|\"entertainment\"|\"will smith\"|\"will\"|\"sm...</td>\n",
       "      <td>4640731</td>\n",
       "      <td>155163</td>\n",
       "      <td>4100</td>\n",
       "      <td>13552</td>\n",
       "      <td>https://i.ytimg.com/vi/Ml9v3wHLuWI/default.jpg</td>\n",
       "      <td>False</td>\n",
       "      <td>False</td>\n",
       "      <td>False</td>\n",
       "      <td>Things get awkward when Will meets Sophia the ...</td>\n",
       "    </tr>\n",
       "    <tr>\n",
       "      <th>4125</th>\n",
       "      <td>o7iL2KzDh38</td>\n",
       "      <td>17.04.12</td>\n",
       "      <td>Martin Garrix &amp; David Guetta - So Far Away (fe...</td>\n",
       "      <td>Martin Garrix</td>\n",
       "      <td>10</td>\n",
       "      <td>2017-12-01T05:01:33.000Z</td>\n",
       "      <td>Martin Garrix|\"EDM\"|\"Animals\"|\"Wizard\"|\"Proxy\"...</td>\n",
       "      <td>3170624</td>\n",
       "      <td>216409</td>\n",
       "      <td>2603</td>\n",
       "      <td>13069</td>\n",
       "      <td>https://i.ytimg.com/vi/o7iL2KzDh38/default.jpg</td>\n",
       "      <td>False</td>\n",
       "      <td>False</td>\n",
       "      <td>False</td>\n",
       "      <td>Out now on iTunes and Spotify: http://stmpdrcr...</td>\n",
       "    </tr>\n",
       "    <tr>\n",
       "      <th>9255</th>\n",
       "      <td>WSEaxpfRpgg</td>\n",
       "      <td>17.30.12</td>\n",
       "      <td>GUMMY FOOD vs REAL FOOD!</td>\n",
       "      <td>Rosanna Pansino</td>\n",
       "      <td>26</td>\n",
       "      <td>2017-12-28T15:18:21.000Z</td>\n",
       "      <td>challenge|\"gummy\"|\"real food\"|\"food\"|\"gross\"|\"...</td>\n",
       "      <td>974810</td>\n",
       "      <td>39661</td>\n",
       "      <td>595</td>\n",
       "      <td>7194</td>\n",
       "      <td>https://i.ytimg.com/vi/WSEaxpfRpgg/default.jpg</td>\n",
       "      <td>False</td>\n",
       "      <td>False</td>\n",
       "      <td>False</td>\n",
       "      <td>Today I played the Real Food vs Gummy Food Cha...</td>\n",
       "    </tr>\n",
       "    <tr>\n",
       "      <th>9542</th>\n",
       "      <td>gNPUpnCcoWw</td>\n",
       "      <td>17.31.12</td>\n",
       "      <td>Best Food 2017 - MUST EAT! + Top Travel Destin...</td>\n",
       "      <td>Mark Wiens</td>\n",
       "      <td>19</td>\n",
       "      <td>2017-12-31T02:13:38.000Z</td>\n",
       "      <td>street food|\"street food compilation\"|\"Mark Wi...</td>\n",
       "      <td>68150</td>\n",
       "      <td>5518</td>\n",
       "      <td>75</td>\n",
       "      <td>836</td>\n",
       "      <td>https://i.ytimg.com/vi/gNPUpnCcoWw/default.jpg</td>\n",
       "      <td>False</td>\n",
       "      <td>False</td>\n",
       "      <td>False</td>\n",
       "      <td>2017 has been amazing, thank you for being par...</td>\n",
       "    </tr>\n",
       "    <tr>\n",
       "      <th>4584</th>\n",
       "      <td>9_Ztk7_v87s</td>\n",
       "      <td>17.06.12</td>\n",
       "      <td>猎场 第52集预告</td>\n",
       "      <td>Leungwai Ling</td>\n",
       "      <td>22</td>\n",
       "      <td>2017-12-05T00:28:02.000Z</td>\n",
       "      <td>猎场|\"52集预告\"</td>\n",
       "      <td>27276</td>\n",
       "      <td>17</td>\n",
       "      <td>4</td>\n",
       "      <td>0</td>\n",
       "      <td>https://i.ytimg.com/vi/9_Ztk7_v87s/default.jpg</td>\n",
       "      <td>False</td>\n",
       "      <td>False</td>\n",
       "      <td>False</td>\n",
       "      <td>NaN</td>\n",
       "    </tr>\n",
       "    <tr>\n",
       "      <th>...</th>\n",
       "      <td>...</td>\n",
       "      <td>...</td>\n",
       "      <td>...</td>\n",
       "      <td>...</td>\n",
       "      <td>...</td>\n",
       "      <td>...</td>\n",
       "      <td>...</td>\n",
       "      <td>...</td>\n",
       "      <td>...</td>\n",
       "      <td>...</td>\n",
       "      <td>...</td>\n",
       "      <td>...</td>\n",
       "      <td>...</td>\n",
       "      <td>...</td>\n",
       "      <td>...</td>\n",
       "      <td>...</td>\n",
       "    </tr>\n",
       "    <tr>\n",
       "      <th>19546</th>\n",
       "      <td>V5cOvyDpWfM</td>\n",
       "      <td>18.22.02</td>\n",
       "      <td>Fergie Performs The U.S. National Anthem / 201...</td>\n",
       "      <td>MLG Highlights</td>\n",
       "      <td>17</td>\n",
       "      <td>2018-02-19T01:37:11.000Z</td>\n",
       "      <td>mlg highlights|\"mlg\"|\"basketball\"|\"highlights\"...</td>\n",
       "      <td>17030271</td>\n",
       "      <td>41743</td>\n",
       "      <td>141315</td>\n",
       "      <td>53209</td>\n",
       "      <td>https://i.ytimg.com/vi/V5cOvyDpWfM/default.jpg</td>\n",
       "      <td>False</td>\n",
       "      <td>False</td>\n",
       "      <td>False</td>\n",
       "      <td>🏀Fergie Performs The U.S. National Anthem / 20...</td>\n",
       "    </tr>\n",
       "    <tr>\n",
       "      <th>15755</th>\n",
       "      <td>XBCi2W70jdI</td>\n",
       "      <td>18.02.02</td>\n",
       "      <td>2018년 2월 1일 (목) 뉴스룸 다시보기 - 상속 부동산, MB 것 차명재산 인정</td>\n",
       "      <td>JTBC News</td>\n",
       "      <td>25</td>\n",
       "      <td>2018-02-01T14:30:08.000Z</td>\n",
       "      <td>뉴스룸 다시보기|\"뉴스룸 풀영상\"|\"뉴스 풀영상\"|\"뉴스 다시보기\"|\"JTBC LI...</td>\n",
       "      <td>101337</td>\n",
       "      <td>779</td>\n",
       "      <td>87</td>\n",
       "      <td>166</td>\n",
       "      <td>https://i.ytimg.com/vi/XBCi2W70jdI/default.jpg</td>\n",
       "      <td>False</td>\n",
       "      <td>False</td>\n",
       "      <td>False</td>\n",
       "      <td>1.  상속 부동산, MB 것 차명재산 인정 2:28\\n\\n이명박 전 대통령의 조카...</td>\n",
       "    </tr>\n",
       "    <tr>\n",
       "      <th>18357</th>\n",
       "      <td>wIimU5-UEPc</td>\n",
       "      <td>18.16.02</td>\n",
       "      <td>Can Selena Gomez remember her own lyrics?</td>\n",
       "      <td>BBC Radio 1</td>\n",
       "      <td>10</td>\n",
       "      <td>2018-02-15T08:00:02.000Z</td>\n",
       "      <td>Selena Gomez|\"Demi Lovato\"|\"Zedd\"|\"Barney The ...</td>\n",
       "      <td>1208480</td>\n",
       "      <td>47369</td>\n",
       "      <td>945</td>\n",
       "      <td>2620</td>\n",
       "      <td>https://i.ytimg.com/vi/wIimU5-UEPc/default.jpg</td>\n",
       "      <td>False</td>\n",
       "      <td>False</td>\n",
       "      <td>False</td>\n",
       "      <td>Grimmy gets Selena Gomez to take the 'Remember...</td>\n",
       "    </tr>\n",
       "    <tr>\n",
       "      <th>27500</th>\n",
       "      <td>pMDLpmIk9RA</td>\n",
       "      <td>18.02.04</td>\n",
       "      <td>The Queen &amp; British Royal Family Arrive At St ...</td>\n",
       "      <td>Royal Reviewer</td>\n",
       "      <td>24</td>\n",
       "      <td>2018-04-01T11:30:28.000Z</td>\n",
       "      <td>the|\"queen\"|\"the queen\"|\"queen elizabeth\"|\"eli...</td>\n",
       "      <td>54681</td>\n",
       "      <td>812</td>\n",
       "      <td>40</td>\n",
       "      <td>152</td>\n",
       "      <td>https://i.ytimg.com/vi/pMDLpmIk9RA/default.jpg</td>\n",
       "      <td>False</td>\n",
       "      <td>False</td>\n",
       "      <td>False</td>\n",
       "      <td>In this video we will be taking a look at: The...</td>\n",
       "    </tr>\n",
       "    <tr>\n",
       "      <th>17668</th>\n",
       "      <td>5rPHn0TJOJQ</td>\n",
       "      <td>18.12.02</td>\n",
       "      <td>3 Prison Escapees Who Were Arrested After Deca...</td>\n",
       "      <td>Criminally Listed</td>\n",
       "      <td>25</td>\n",
       "      <td>2018-02-12T01:00:05.000Z</td>\n",
       "      <td>True crime|\"dateline\"|\"48 hours\"|\"forensic fil...</td>\n",
       "      <td>17245</td>\n",
       "      <td>1232</td>\n",
       "      <td>28</td>\n",
       "      <td>481</td>\n",
       "      <td>https://i.ytimg.com/vi/5rPHn0TJOJQ/default.jpg</td>\n",
       "      <td>False</td>\n",
       "      <td>False</td>\n",
       "      <td>False</td>\n",
       "      <td>These three men all killed someone, were sent ...</td>\n",
       "    </tr>\n",
       "  </tbody>\n",
       "</table>\n",
       "<p>1000 rows × 16 columns</p>\n",
       "</div>"
      ],
      "text/plain": [
       "          video_id trending_date  \\\n",
       "27154  Ml9v3wHLuWI      18.01.04   \n",
       "4125   o7iL2KzDh38      17.04.12   \n",
       "9255   WSEaxpfRpgg      17.30.12   \n",
       "9542   gNPUpnCcoWw      17.31.12   \n",
       "4584   9_Ztk7_v87s      17.06.12   \n",
       "...            ...           ...   \n",
       "19546  V5cOvyDpWfM      18.22.02   \n",
       "15755  XBCi2W70jdI      18.02.02   \n",
       "18357  wIimU5-UEPc      18.16.02   \n",
       "27500  pMDLpmIk9RA      18.02.04   \n",
       "17668  5rPHn0TJOJQ      18.12.02   \n",
       "\n",
       "                                                   title      channel_title  \\\n",
       "27154                     Will Smith Tries Online Dating         Will Smith   \n",
       "4125   Martin Garrix & David Guetta - So Far Away (fe...      Martin Garrix   \n",
       "9255                            GUMMY FOOD vs REAL FOOD!    Rosanna Pansino   \n",
       "9542   Best Food 2017 - MUST EAT! + Top Travel Destin...         Mark Wiens   \n",
       "4584                                           猎场 第52集预告      Leungwai Ling   \n",
       "...                                                  ...                ...   \n",
       "19546  Fergie Performs The U.S. National Anthem / 201...     MLG Highlights   \n",
       "15755    2018년 2월 1일 (목) 뉴스룸 다시보기 - 상속 부동산, MB 것 차명재산 인정          JTBC News   \n",
       "18357          Can Selena Gomez remember her own lyrics?        BBC Radio 1   \n",
       "27500  The Queen & British Royal Family Arrive At St ...     Royal Reviewer   \n",
       "17668  3 Prison Escapees Who Were Arrested After Deca...  Criminally Listed   \n",
       "\n",
       "       category_id              publish_time  \\\n",
       "27154           24  2018-03-29T18:10:37.000Z   \n",
       "4125            10  2017-12-01T05:01:33.000Z   \n",
       "9255            26  2017-12-28T15:18:21.000Z   \n",
       "9542            19  2017-12-31T02:13:38.000Z   \n",
       "4584            22  2017-12-05T00:28:02.000Z   \n",
       "...            ...                       ...   \n",
       "19546           17  2018-02-19T01:37:11.000Z   \n",
       "15755           25  2018-02-01T14:30:08.000Z   \n",
       "18357           10  2018-02-15T08:00:02.000Z   \n",
       "27500           24  2018-04-01T11:30:28.000Z   \n",
       "17668           25  2018-02-12T01:00:05.000Z   \n",
       "\n",
       "                                                    tags     views   likes  \\\n",
       "27154  comedy|\"entertainment\"|\"will smith\"|\"will\"|\"sm...   4640731  155163   \n",
       "4125   Martin Garrix|\"EDM\"|\"Animals\"|\"Wizard\"|\"Proxy\"...   3170624  216409   \n",
       "9255   challenge|\"gummy\"|\"real food\"|\"food\"|\"gross\"|\"...    974810   39661   \n",
       "9542   street food|\"street food compilation\"|\"Mark Wi...     68150    5518   \n",
       "4584                                          猎场|\"52集预告\"     27276      17   \n",
       "...                                                  ...       ...     ...   \n",
       "19546  mlg highlights|\"mlg\"|\"basketball\"|\"highlights\"...  17030271   41743   \n",
       "15755  뉴스룸 다시보기|\"뉴스룸 풀영상\"|\"뉴스 풀영상\"|\"뉴스 다시보기\"|\"JTBC LI...    101337     779   \n",
       "18357  Selena Gomez|\"Demi Lovato\"|\"Zedd\"|\"Barney The ...   1208480   47369   \n",
       "27500  the|\"queen\"|\"the queen\"|\"queen elizabeth\"|\"eli...     54681     812   \n",
       "17668  True crime|\"dateline\"|\"48 hours\"|\"forensic fil...     17245    1232   \n",
       "\n",
       "       dislikes  comment_count  \\\n",
       "27154      4100          13552   \n",
       "4125       2603          13069   \n",
       "9255        595           7194   \n",
       "9542         75            836   \n",
       "4584          4              0   \n",
       "...         ...            ...   \n",
       "19546    141315          53209   \n",
       "15755        87            166   \n",
       "18357       945           2620   \n",
       "27500        40            152   \n",
       "17668        28            481   \n",
       "\n",
       "                                       thumbnail_link  comments_disabled  \\\n",
       "27154  https://i.ytimg.com/vi/Ml9v3wHLuWI/default.jpg              False   \n",
       "4125   https://i.ytimg.com/vi/o7iL2KzDh38/default.jpg              False   \n",
       "9255   https://i.ytimg.com/vi/WSEaxpfRpgg/default.jpg              False   \n",
       "9542   https://i.ytimg.com/vi/gNPUpnCcoWw/default.jpg              False   \n",
       "4584   https://i.ytimg.com/vi/9_Ztk7_v87s/default.jpg              False   \n",
       "...                                               ...                ...   \n",
       "19546  https://i.ytimg.com/vi/V5cOvyDpWfM/default.jpg              False   \n",
       "15755  https://i.ytimg.com/vi/XBCi2W70jdI/default.jpg              False   \n",
       "18357  https://i.ytimg.com/vi/wIimU5-UEPc/default.jpg              False   \n",
       "27500  https://i.ytimg.com/vi/pMDLpmIk9RA/default.jpg              False   \n",
       "17668  https://i.ytimg.com/vi/5rPHn0TJOJQ/default.jpg              False   \n",
       "\n",
       "       ratings_disabled  video_error_or_removed  \\\n",
       "27154             False                   False   \n",
       "4125              False                   False   \n",
       "9255              False                   False   \n",
       "9542              False                   False   \n",
       "4584              False                   False   \n",
       "...                 ...                     ...   \n",
       "19546             False                   False   \n",
       "15755             False                   False   \n",
       "18357             False                   False   \n",
       "27500             False                   False   \n",
       "17668             False                   False   \n",
       "\n",
       "                                             description  \n",
       "27154  Things get awkward when Will meets Sophia the ...  \n",
       "4125   Out now on iTunes and Spotify: http://stmpdrcr...  \n",
       "9255   Today I played the Real Food vs Gummy Food Cha...  \n",
       "9542   2017 has been amazing, thank you for being par...  \n",
       "4584                                                 NaN  \n",
       "...                                                  ...  \n",
       "19546  🏀Fergie Performs The U.S. National Anthem / 20...  \n",
       "15755  1.  상속 부동산, MB 것 차명재산 인정 2:28\\n\\n이명박 전 대통령의 조카...  \n",
       "18357  Grimmy gets Selena Gomez to take the 'Remember...  \n",
       "27500  In this video we will be taking a look at: The...  \n",
       "17668  These three men all killed someone, were sent ...  \n",
       "\n",
       "[1000 rows x 16 columns]"
      ]
     },
     "execution_count": 33,
     "metadata": {},
     "output_type": "execute_result"
    }
   ],
   "source": [
    "s_df=df.sample(1000)\n",
    "s_df"
   ]
  },
  {
   "cell_type": "code",
   "execution_count": 34,
   "metadata": {
    "colab": {
     "base_uri": "https://localhost:8080/",
     "height": 305
    },
    "executionInfo": {
     "elapsed": 1402,
     "status": "ok",
     "timestamp": 1625393733611,
     "user": {
      "displayName": "Sachin Saini",
      "photoUrl": "https://lh3.googleusercontent.com/a-/AOh14GiHbfUSeFVa_S61CnvuYVpLUvbpVaS90wIIKN9EfQ=s64",
      "userId": "17325008912649652637"
     },
     "user_tz": -330
    },
    "id": "QF-Y2QWEA-vc",
    "outputId": "d87dbd2e-b567-42b5-bb79-8df1f4046d2d"
   },
   "outputs": [
    {
     "data": {
      "image/png": "[encoded data removed]",
      "text/plain": [
       "<Figure size 864x360 with 1 Axes>"
      ]
     },
     "metadata": {
      "needs_background": "light"
     },
     "output_type": "display_data"
    }
   ],
   "source": [
    "sns.scatterplot(x=s_df.views,y=s_df.dislikes);\n",
    "plt.title('Maximum dislikes');"
   ]
  },
  {
   "cell_type": "markdown",
   "metadata": {
    "id": "D37FYQgmBDYB"
   },
   "source": [
    "From above plot we can easily find that video which has maximum dislikes is nearabout 120000.\n"
   ]
  },
  {
   "cell_type": "markdown",
   "metadata": {
    "id": "4t43cRebBGPw"
   },
   "source": [
    "#### Q5:  What is the total views,dislikes, comments, likes on the basis of category id?"
   ]
  },
  {
   "cell_type": "code",
   "execution_count": 35,
   "metadata": {
    "colab": {
     "base_uri": "https://localhost:8080/",
     "height": 613
    },
    "executionInfo": {
     "elapsed": 396,
     "status": "ok",
     "timestamp": 1625393760944,
     "user": {
      "displayName": "Sachin Saini",
      "photoUrl": "https://lh3.googleusercontent.com/a-/AOh14GiHbfUSeFVa_S61CnvuYVpLUvbpVaS90wIIKN9EfQ=s64",
      "userId": "17325008912649652637"
     },
     "user_tz": -330
    },
    "id": "JnYAtAzuBEEd",
    "outputId": "a8dd3808-28dc-48b3-ccb7-4268b0adc7cb"
   },
   "outputs": [
    {
     "data": {
      "text/html": [
       "<div>\n",
       "<style scoped>\n",
       "    .dataframe tbody tr th:only-of-type {\n",
       "        vertical-align: middle;\n",
       "    }\n",
       "\n",
       "    .dataframe tbody tr th {\n",
       "        vertical-align: top;\n",
       "    }\n",
       "\n",
       "    .dataframe thead th {\n",
       "        text-align: right;\n",
       "    }\n",
       "</style>\n",
       "<table border=\"1\" class=\"dataframe\">\n",
       "  <thead>\n",
       "    <tr style=\"text-align: right;\">\n",
       "      <th></th>\n",
       "      <th>likes</th>\n",
       "      <th>dislikes</th>\n",
       "      <th>comment_count</th>\n",
       "      <th>views</th>\n",
       "    </tr>\n",
       "    <tr>\n",
       "      <th>category_id</th>\n",
       "      <th></th>\n",
       "      <th></th>\n",
       "      <th></th>\n",
       "      <th></th>\n",
       "    </tr>\n",
       "  </thead>\n",
       "  <tbody>\n",
       "    <tr>\n",
       "      <th>1</th>\n",
       "      <td>77802003</td>\n",
       "      <td>3111259</td>\n",
       "      <td>10086573</td>\n",
       "      <td>2939060844</td>\n",
       "    </tr>\n",
       "    <tr>\n",
       "      <th>2</th>\n",
       "      <td>4732114</td>\n",
       "      <td>197776</td>\n",
       "      <td>1016188</td>\n",
       "      <td>200066074</td>\n",
       "    </tr>\n",
       "    <tr>\n",
       "      <th>10</th>\n",
       "      <td>564447530</td>\n",
       "      <td>22098190</td>\n",
       "      <td>52435252</td>\n",
       "      <td>13179850194</td>\n",
       "    </tr>\n",
       "    <tr>\n",
       "      <th>15</th>\n",
       "      <td>8830736</td>\n",
       "      <td>185003</td>\n",
       "      <td>1823538</td>\n",
       "      <td>235592173</td>\n",
       "    </tr>\n",
       "    <tr>\n",
       "      <th>17</th>\n",
       "      <td>59449419</td>\n",
       "      <td>3286369</td>\n",
       "      <td>7661342</td>\n",
       "      <td>2997652188</td>\n",
       "    </tr>\n",
       "    <tr>\n",
       "      <th>19</th>\n",
       "      <td>3750914</td>\n",
       "      <td>129861</td>\n",
       "      <td>609953</td>\n",
       "      <td>143746952</td>\n",
       "    </tr>\n",
       "    <tr>\n",
       "      <th>20</th>\n",
       "      <td>51726552</td>\n",
       "      <td>2446882</td>\n",
       "      <td>9664887</td>\n",
       "      <td>1241532385</td>\n",
       "    </tr>\n",
       "    <tr>\n",
       "      <th>22</th>\n",
       "      <td>105388564</td>\n",
       "      <td>9480796</td>\n",
       "      <td>16818201</td>\n",
       "      <td>3228227926</td>\n",
       "    </tr>\n",
       "    <tr>\n",
       "      <th>23</th>\n",
       "      <td>196046674</td>\n",
       "      <td>5372515</td>\n",
       "      <td>19638776</td>\n",
       "      <td>3708438785</td>\n",
       "    </tr>\n",
       "    <tr>\n",
       "      <th>24</th>\n",
       "      <td>387245433</td>\n",
       "      <td>25791583</td>\n",
       "      <td>55313036</td>\n",
       "      <td>13671215509</td>\n",
       "    </tr>\n",
       "    <tr>\n",
       "      <th>25</th>\n",
       "      <td>32705054</td>\n",
       "      <td>3264041</td>\n",
       "      <td>9259788</td>\n",
       "      <td>1614610043</td>\n",
       "    </tr>\n",
       "    <tr>\n",
       "      <th>26</th>\n",
       "      <td>51183104</td>\n",
       "      <td>1730520</td>\n",
       "      <td>8342917</td>\n",
       "      <td>1570846611</td>\n",
       "    </tr>\n",
       "    <tr>\n",
       "      <th>27</th>\n",
       "      <td>20972402</td>\n",
       "      <td>793448</td>\n",
       "      <td>2968416</td>\n",
       "      <td>531773343</td>\n",
       "    </tr>\n",
       "    <tr>\n",
       "      <th>28</th>\n",
       "      <td>42814598</td>\n",
       "      <td>1791153</td>\n",
       "      <td>7209219</td>\n",
       "      <td>1425090421</td>\n",
       "    </tr>\n",
       "    <tr>\n",
       "      <th>29</th>\n",
       "      <td>10242613</td>\n",
       "      <td>2325807</td>\n",
       "      <td>3222541</td>\n",
       "      <td>115601623</td>\n",
       "    </tr>\n",
       "    <tr>\n",
       "      <th>30</th>\n",
       "      <td>252905</td>\n",
       "      <td>12280</td>\n",
       "      <td>13979</td>\n",
       "      <td>17120490</td>\n",
       "    </tr>\n",
       "    <tr>\n",
       "      <th>43</th>\n",
       "      <td>589263</td>\n",
       "      <td>120436</td>\n",
       "      <td>77243</td>\n",
       "      <td>71549508</td>\n",
       "    </tr>\n",
       "  </tbody>\n",
       "</table>\n",
       "</div>"
      ],
      "text/plain": [
       "                 likes  dislikes  comment_count        views\n",
       "category_id                                                 \n",
       "1             77802003   3111259       10086573   2939060844\n",
       "2              4732114    197776        1016188    200066074\n",
       "10           564447530  22098190       52435252  13179850194\n",
       "15             8830736    185003        1823538    235592173\n",
       "17            59449419   3286369        7661342   2997652188\n",
       "19             3750914    129861         609953    143746952\n",
       "20            51726552   2446882        9664887   1241532385\n",
       "22           105388564   9480796       16818201   3228227926\n",
       "23           196046674   5372515       19638776   3708438785\n",
       "24           387245433  25791583       55313036  13671215509\n",
       "25            32705054   3264041        9259788   1614610043\n",
       "26            51183104   1730520        8342917   1570846611\n",
       "27            20972402    793448        2968416    531773343\n",
       "28            42814598   1791153        7209219   1425090421\n",
       "29            10242613   2325807        3222541    115601623\n",
       "30              252905     12280          13979     17120490\n",
       "43              589263    120436          77243     71549508"
      ]
     },
     "execution_count": 35,
     "metadata": {},
     "output_type": "execute_result"
    }
   ],
   "source": [
    "c_d=df.groupby('category_id')[['likes','dislikes','comment_count','views']].sum()\n",
    "c_d"
   ]
  },
  {
   "cell_type": "markdown",
   "metadata": {
    "id": "p672PQMeBKs3"
   },
   "source": [
    "From above table we can easily find that  category 10 has highest likes, category 24 has highest dislikes,views and comments."
   ]
  },
  {
   "cell_type": "markdown",
   "metadata": {
    "id": "0Zrhtmb8BOPm"
   },
   "source": [
    "# **CONCLUSION**"
   ]
  },
  {
   "cell_type": "markdown",
   "metadata": {
    "id": "pfNr-GYMBSmw"
   },
   "source": [
    "From our analysis we can conclude the following points:\n",
    "\n",
    "1:  Trending videos are on the basis of views and not on the basis of likes.\n",
    "\n",
    "2:  Videos  with highest views have lowest comments.\n",
    "\n",
    "3:  As data has random entries so we can't conclude a relationship between view,likes,dislikes."
   ]
  },
  {
   "cell_type": "markdown",
   "metadata": {
    "id": "aOUA53y0BWjy"
   },
   "source": [
    "Let us save and upload our work to Jovian before continuing."
   ]
  },
  {
   "cell_type": "code",
   "execution_count": 37,
   "metadata": {
    "id": "xt_5CctBBS_l"
   },
   "outputs": [
    {
     "data": {
      "application/javascript": [
       "window.require && require([\"base/js/namespace\"],function(Jupyter){Jupyter.notebook.save_checkpoint()})"
      ],
      "text/plain": [
       "<IPython.core.display.Javascript object>"
      ]
     },
     "metadata": {},
     "output_type": "display_data"
    },
    {
     "name": "stdout",
     "output_type": "stream",
     "text": [
      "[jovian] Updating notebook \"sainisachin393/new\" on https://jovian.ai\u001b[0m\n",
      "[jovian] Committed successfully! https://jovian.ai/sainisachin393/new\u001b[0m\n",
      "[jovian] Submitting assignment..\u001b[0m\n",
      "[jovian] Verify your submission at https://jovian.ai/learn/data-analysis-with-python-zero-to-pandas/assignment/course-project\u001b[0m\n"
     ]
    }
   ],
   "source": [
    "jovian.submit(assignment=\"zero-to-pandas-project\")"
   ]
  },
  {
   "cell_type": "code",
   "execution_count": null,
   "metadata": {},
   "outputs": [],
   "source": []
  }
 ],
 "metadata": {
  "colab": {
   "name": "new.ipynb",
   "provenance": []
  },
  "language_info": {
   "codemirror_mode": {
    "name": "ipython",
    "version": 3
   },
   "file_extension": ".py",
   "mimetype": "text/x-python",
   "name": "python",
   "nbconvert_exporter": "python",
   "pygments_lexer": "ipython3",
   "version": "3.9.5"
  }
 },
 "nbformat": 4,
 "nbformat_minor": 1
}